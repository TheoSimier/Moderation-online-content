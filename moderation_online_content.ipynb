{
 "cells": [
  {
   "cell_type": "markdown",
   "metadata": {},
   "source": [
    "**Théo Simier - Master Project**"
   ]
  },
  {
   "cell_type": "markdown",
   "metadata": {},
   "source": [
    "**Moderation of online content through Natural Language Processing, Machine Learning and Deep Learning**"
   ]
  },
  {
   "cell_type": "code",
   "execution_count": 3,
   "metadata": {
    "ExecuteTime": {
     "end_time": "2019-10-14T20:08:34.581013Z",
     "start_time": "2019-10-14T20:08:34.573007Z"
    }
   },
   "outputs": [
    {
     "name": "stdout",
     "output_type": "stream",
     "text": [
      "Project: Moderation of online content through Natural Language Processing, Machine Learning and Deep Learning\n",
      "\n",
      "The objective of this master project is to illustrate:\n",
      "how techniques of Natural Language Processing and Machine Learning can be used to gain meaningful information from text. \n",
      "\n",
      "During this thesis, I explain the most commonly used techniques and apply them on a concrete example: \n",
      "the creation of an algorithm capable of monitoring questions by checking if a question respects or not the terms and conditions of a question-and-answer website named Quora. \n",
      "I start by creating statistical features, normalizing the questions and transforming them into a format that classification algorithms can handle. \n",
      "Finally, I use a Logistic Regression, a Random Forest and a Deep Learning model to predict if the questions are compliant or not. \n",
      "The best algorithm reaches an accuracy of 87%.\n",
      "\n",
      "The database can be found at the following url:\n",
      "https://www.kaggle.com/c/quora-insincere-questions-classification/data\n",
      "\n",
      "Glove embeddings can be retrieved from nlp.stanford at the following url:\n",
      "https://nlp.stanford.edu/projects/glove/\n",
      "\n",
      "Details on the sources of the project can be found on the references of \"Theo Simier - Master Project.pdf\"\n",
      "\n",
      "Master Project - Master of Science Data Analytics and Artificial Intelligence - EDHEC Business School\n",
      "Author: Theo Simier\n",
      "Under the direction of: Prof. Dr. Christophe Croux\n"
     ]
    }
   ],
   "source": [
    "readme = open(\"README.txt\", \"r\")\n",
    "contenu = readme.read()\n",
    "print(contenu)"
   ]
  },
  {
   "cell_type": "markdown",
   "metadata": {},
   "source": [
    "## Librairies"
   ]
  },
  {
   "cell_type": "code",
   "execution_count": 186,
   "metadata": {
    "ExecuteTime": {
     "end_time": "2019-06-23T16:50:12.090036Z",
     "start_time": "2019-06-23T16:50:12.055405Z"
    },
    "scrolled": true
   },
   "outputs": [],
   "source": [
    "import warnings\n",
    "warnings.filterwarnings(\"default\")\n",
    "import sys\n",
    "\n",
    "# Data Manipulation\n",
    "import numpy as np\n",
    "import pandas as pd\n",
    "from scipy.sparse import csr_matrix, hstack\n",
    "from collections import defaultdict, Counter\n",
    "import regex as re\n",
    "\n",
    "# Vizualisation\n",
    "import matplotlib.pyplot as plt\n",
    "import seaborn as sns\n",
    "%matplotlib inline\n",
    "\n",
    "# Gensim\n",
    "from gensim.models import KeyedVectors, Word2Vec\n",
    "from gensim.scripts.glove2word2vec import glove2word2vec\n",
    "\n",
    "# NLTK\n",
    "from nltk import word_tokenize,pos_tag, pos_tag_sents\n",
    "from nltk.corpus import stopwords\n",
    "from nltk.corpus import wordnet as wn\n",
    "from nltk.stem.wordnet import WordNetLemmatizer\n",
    "from nltk.stem import PorterStemmer, LancasterStemmer\n",
    "\n",
    "# xgboost\n",
    "from xgboost import XGBClassifier\n",
    "\n",
    "# Scikit-learn\n",
    "from sklearn.naive_bayes import MultinomialNB\n",
    "from sklearn.model_selection import train_test_split, GridSearchCV\n",
    "from sklearn.metrics import confusion_matrix, f1_score, accuracy_score\n",
    "from sklearn.linear_model import LogisticRegression\n",
    "from sklearn.feature_extraction.text import CountVectorizer\n",
    "from sklearn.utils import shuffle\n",
    "from sklearn.ensemble import RandomForestClassifier\n",
    "from sklearn.decomposition import PCA\n",
    "from sklearn.preprocessing import MinMaxScaler\n",
    "\n",
    "# Keras\n",
    "from keras.preprocessing.text import Tokenizer\n",
    "from keras.preprocessing.sequence import pad_sequences\n",
    "from keras.layers import Dense, Input, Embedding, Dropout, Activation, LSTM, Bidirectional, Reshape, Flatten, Concatenate,SpatialDropout1D, concatenate\n",
    "from keras.optimizers import Adam\n",
    "from keras.models import Model, Sequential\n",
    "from keras import initializers, regularizers, constraints, optimizers, layers\n",
    "from keras.utils.np_utils import to_categorical\n",
    "from keras.callbacks import EarlyStopping\n",
    "from keras.wrappers.scikit_learn import KerasClassifier"
   ]
  },
  {
   "cell_type": "markdown",
   "metadata": {},
   "source": [
    "## Importation of the dataset"
   ]
  },
  {
   "cell_type": "code",
   "execution_count": 187,
   "metadata": {
    "ExecuteTime": {
     "end_time": "2019-06-23T16:50:14.318898Z",
     "start_time": "2019-06-23T16:50:12.092003Z"
    }
   },
   "outputs": [
    {
     "data": {
      "text/plain": [
       "(900001, 3)"
      ]
     },
     "execution_count": 187,
     "metadata": {},
     "output_type": "execute_result"
    }
   ],
   "source": [
    "data = pd.read_csv('train_less_100_mo.csv')\n",
    "data = data.iloc[:,1:]\n",
    "data.shape"
   ]
  },
  {
   "cell_type": "code",
   "execution_count": 188,
   "metadata": {
    "ExecuteTime": {
     "end_time": "2019-06-23T16:50:14.572667Z",
     "start_time": "2019-06-23T16:50:14.320654Z"
    }
   },
   "outputs": [
    {
     "data": {
      "text/html": [
       "<div>\n",
       "<style>\n",
       "    .dataframe thead tr:only-child th {\n",
       "        text-align: right;\n",
       "    }\n",
       "\n",
       "    .dataframe thead th {\n",
       "        text-align: left;\n",
       "    }\n",
       "\n",
       "    .dataframe tbody tr th {\n",
       "        vertical-align: top;\n",
       "    }\n",
       "</style>\n",
       "<table border=\"1\" class=\"dataframe\">\n",
       "  <thead>\n",
       "    <tr style=\"text-align: right;\">\n",
       "      <th></th>\n",
       "      <th>qid</th>\n",
       "      <th>question_text</th>\n",
       "      <th>target</th>\n",
       "    </tr>\n",
       "  </thead>\n",
       "  <tbody>\n",
       "    <tr>\n",
       "      <th>0</th>\n",
       "      <td>5ea2ceaaab59801d1bc4</td>\n",
       "      <td>How do I become a bodybuilder in India?</td>\n",
       "      <td>0</td>\n",
       "    </tr>\n",
       "    <tr>\n",
       "      <th>1</th>\n",
       "      <td>4044a3c53f9a637b3fa5</td>\n",
       "      <td>How should one need to plan for the preparation of GATE ...</td>\n",
       "      <td>0</td>\n",
       "    </tr>\n",
       "    <tr>\n",
       "      <th>2</th>\n",
       "      <td>1279add796d613f96499</td>\n",
       "      <td>Who is the governing authority for DMV regulations and l...</td>\n",
       "      <td>0</td>\n",
       "    </tr>\n",
       "    <tr>\n",
       "      <th>3</th>\n",
       "      <td>4a8c305568d37e9899e3</td>\n",
       "      <td>When I'm looking for a phosphorylated protein in western...</td>\n",
       "      <td>0</td>\n",
       "    </tr>\n",
       "    <tr>\n",
       "      <th>4</th>\n",
       "      <td>4377c2f3971e40c32422</td>\n",
       "      <td>What are the tubes called that lead from the diesel filt...</td>\n",
       "      <td>0</td>\n",
       "    </tr>\n",
       "  </tbody>\n",
       "</table>\n",
       "</div>"
      ],
      "text/plain": [
       "                    qid  \\\n",
       "0  5ea2ceaaab59801d1bc4   \n",
       "1  4044a3c53f9a637b3fa5   \n",
       "2  1279add796d613f96499   \n",
       "3  4a8c305568d37e9899e3   \n",
       "4  4377c2f3971e40c32422   \n",
       "\n",
       "                                                 question_text  target  \n",
       "0                      How do I become a bodybuilder in India?       0  \n",
       "1  How should one need to plan for the preparation of GATE ...       0  \n",
       "2  Who is the governing authority for DMV regulations and l...       0  \n",
       "3  When I'm looking for a phosphorylated protein in western...       0  \n",
       "4  What are the tubes called that lead from the diesel filt...       0  "
      ]
     },
     "execution_count": 188,
     "metadata": {},
     "output_type": "execute_result"
    }
   ],
   "source": [
    "n=50000\n",
    "data_target_0 = data[data['target']==0]\n",
    "data_target_1 = data[data['target']==1]\n",
    "data_target_0_sample = data_target_0.sample(n=n, random_state=2) \n",
    "data_target_1_sample = data_target_1.sample(n=n, random_state=2)\n",
    "data = pd.concat([data_target_0_sample,data_target_1_sample])\n",
    "del data_target_0,data_target_0_sample,data_target_1,data_target_1_sample\n",
    "data = shuffle(data)\n",
    "data.reset_index(inplace=True, drop=True)\n",
    "data.head()"
   ]
  },
  {
   "cell_type": "code",
   "execution_count": 189,
   "metadata": {
    "ExecuteTime": {
     "end_time": "2019-06-23T16:50:14.596283Z",
     "start_time": "2019-06-23T16:50:14.574798Z"
    },
    "collapsed": true
   },
   "outputs": [],
   "source": [
    "questions = list(data['question_text'])\n",
    "targets = list(data['target'])"
   ]
  },
  {
   "cell_type": "markdown",
   "metadata": {},
   "source": [
    "## Description of the dataset"
   ]
  },
  {
   "cell_type": "code",
   "execution_count": 190,
   "metadata": {
    "ExecuteTime": {
     "end_time": "2019-06-23T16:50:14.609813Z",
     "start_time": "2019-06-23T16:50:14.598427Z"
    }
   },
   "outputs": [
    {
     "data": {
      "text/html": [
       "<div>\n",
       "<style>\n",
       "    .dataframe thead tr:only-child th {\n",
       "        text-align: right;\n",
       "    }\n",
       "\n",
       "    .dataframe thead th {\n",
       "        text-align: left;\n",
       "    }\n",
       "\n",
       "    .dataframe tbody tr th {\n",
       "        vertical-align: top;\n",
       "    }\n",
       "</style>\n",
       "<table border=\"1\" class=\"dataframe\">\n",
       "  <thead>\n",
       "    <tr style=\"text-align: right;\">\n",
       "      <th></th>\n",
       "      <th>qid</th>\n",
       "      <th>question_text</th>\n",
       "      <th>target</th>\n",
       "    </tr>\n",
       "  </thead>\n",
       "  <tbody>\n",
       "    <tr>\n",
       "      <th>0</th>\n",
       "      <td>5ea2ceaaab59801d1bc4</td>\n",
       "      <td>How do I become a bodybuilder in India?</td>\n",
       "      <td>0</td>\n",
       "    </tr>\n",
       "    <tr>\n",
       "      <th>1</th>\n",
       "      <td>4044a3c53f9a637b3fa5</td>\n",
       "      <td>How should one need to plan for the preparation of GATE 2019?</td>\n",
       "      <td>0</td>\n",
       "    </tr>\n",
       "    <tr>\n",
       "      <th>2</th>\n",
       "      <td>1279add796d613f96499</td>\n",
       "      <td>Who is the governing authority for DMV regulations and laws? Is it the state legislature.?</td>\n",
       "      <td>0</td>\n",
       "    </tr>\n",
       "    <tr>\n",
       "      <th>3</th>\n",
       "      <td>4a8c305568d37e9899e3</td>\n",
       "      <td>When I'm looking for a phosphorylated protein in western blot, should I probe the total protein in the same membrane?</td>\n",
       "      <td>0</td>\n",
       "    </tr>\n",
       "    <tr>\n",
       "      <th>4</th>\n",
       "      <td>4377c2f3971e40c32422</td>\n",
       "      <td>What are the tubes called that lead from the diesel filter to the injection pump?</td>\n",
       "      <td>0</td>\n",
       "    </tr>\n",
       "  </tbody>\n",
       "</table>\n",
       "</div>"
      ],
      "text/plain": [
       "                    qid  \\\n",
       "0  5ea2ceaaab59801d1bc4   \n",
       "1  4044a3c53f9a637b3fa5   \n",
       "2  1279add796d613f96499   \n",
       "3  4a8c305568d37e9899e3   \n",
       "4  4377c2f3971e40c32422   \n",
       "\n",
       "                                                                                                           question_text  \\\n",
       "0                                                                                How do I become a bodybuilder in India?   \n",
       "1                                                          How should one need to plan for the preparation of GATE 2019?   \n",
       "2                             Who is the governing authority for DMV regulations and laws? Is it the state legislature.?   \n",
       "3  When I'm looking for a phosphorylated protein in western blot, should I probe the total protein in the same membrane?   \n",
       "4                                      What are the tubes called that lead from the diesel filter to the injection pump?   \n",
       "\n",
       "   target  \n",
       "0       0  \n",
       "1       0  \n",
       "2       0  \n",
       "3       0  \n",
       "4       0  "
      ]
     },
     "execution_count": 190,
     "metadata": {},
     "output_type": "execute_result"
    }
   ],
   "source": [
    "pd.set_option('max_colwidth', 600)\n",
    "data.head()"
   ]
  },
  {
   "cell_type": "code",
   "execution_count": 191,
   "metadata": {
    "ExecuteTime": {
     "end_time": "2019-06-23T16:50:14.615306Z",
     "start_time": "2019-06-23T16:50:14.611683Z"
    },
    "collapsed": true
   },
   "outputs": [],
   "source": [
    "pd.set_option('max_colwidth', 60)"
   ]
  },
  {
   "cell_type": "code",
   "execution_count": 192,
   "metadata": {
    "ExecuteTime": {
     "end_time": "2019-06-23T16:50:14.870386Z",
     "start_time": "2019-06-23T16:50:14.617093Z"
    }
   },
   "outputs": [
    {
     "name": "stderr",
     "output_type": "stream",
     "text": [
      "/home/theosimier/anaconda3/lib/python3.5/site-packages/matplotlib/font_manager.py:1297: UserWarning: findfont: Font family ['sans-serif'] not found. Falling back to DejaVu Sans\n",
      "  (prop.get_family(), self.defaultFamily[fontext]))\n"
     ]
    },
    {
     "data": {
      "image/png": "[encoded data removed]",
      "text/plain": [
       "<matplotlib.figure.Figure at 0x7f1b08a92eb8>"
      ]
     },
     "metadata": {},
     "output_type": "display_data"
    }
   ],
   "source": [
    " sns.countplot(x=data[\"target\"]);"
   ]
  },
  {
   "cell_type": "markdown",
   "metadata": {
    "ExecuteTime": {
     "end_time": "2019-04-10T14:08:33.827194Z",
     "start_time": "2019-04-10T14:08:33.795946Z"
    }
   },
   "source": [
    "# Feature Engineering"
   ]
  },
  {
   "cell_type": "markdown",
   "metadata": {},
   "source": [
    "## Statistical Features"
   ]
  },
  {
   "cell_type": "code",
   "execution_count": 193,
   "metadata": {
    "ExecuteTime": {
     "end_time": "2019-06-23T16:50:14.882702Z",
     "start_time": "2019-06-23T16:50:14.872555Z"
    }
   },
   "outputs": [
    {
     "data": {
      "text/html": [
       "<div>\n",
       "<style>\n",
       "    .dataframe thead tr:only-child th {\n",
       "        text-align: right;\n",
       "    }\n",
       "\n",
       "    .dataframe thead th {\n",
       "        text-align: left;\n",
       "    }\n",
       "\n",
       "    .dataframe tbody tr th {\n",
       "        vertical-align: top;\n",
       "    }\n",
       "</style>\n",
       "<table border=\"1\" class=\"dataframe\">\n",
       "  <thead>\n",
       "    <tr style=\"text-align: right;\">\n",
       "      <th></th>\n",
       "      <th>qid</th>\n",
       "      <th>question_text</th>\n",
       "      <th>target</th>\n",
       "    </tr>\n",
       "  </thead>\n",
       "  <tbody>\n",
       "    <tr>\n",
       "      <th>0</th>\n",
       "      <td>5ea2ceaaab59801d1bc4</td>\n",
       "      <td>How do I become a bodybuilder in India?</td>\n",
       "      <td>0</td>\n",
       "    </tr>\n",
       "    <tr>\n",
       "      <th>1</th>\n",
       "      <td>4044a3c53f9a637b3fa5</td>\n",
       "      <td>How should one need to plan for the preparation of GATE ...</td>\n",
       "      <td>0</td>\n",
       "    </tr>\n",
       "  </tbody>\n",
       "</table>\n",
       "</div>"
      ],
      "text/plain": [
       "                    qid  \\\n",
       "0  5ea2ceaaab59801d1bc4   \n",
       "1  4044a3c53f9a637b3fa5   \n",
       "\n",
       "                                                 question_text  target  \n",
       "0                      How do I become a bodybuilder in India?       0  \n",
       "1  How should one need to plan for the preparation of GATE ...       0  "
      ]
     },
     "execution_count": 193,
     "metadata": {},
     "output_type": "execute_result"
    }
   ],
   "source": [
    "data.head(2)"
   ]
  },
  {
   "cell_type": "code",
   "execution_count": 194,
   "metadata": {
    "ExecuteTime": {
     "end_time": "2019-06-23T16:50:14.896134Z",
     "start_time": "2019-06-23T16:50:14.884629Z"
    },
    "collapsed": true
   },
   "outputs": [],
   "source": [
    " def fct_number_words(string):\n",
    "    # Count the number of words in a string\n",
    "    return len(re.findall(r'\\w+', string))\n",
    "    \n",
    "def fct_uppercases(string):\n",
    "    # Count the number of uppercases in a string\n",
    "    return len(re.findall(r'[A-Z]', string))\n",
    "\n",
    "def fct_punctuations(string):\n",
    "    # Count the number of punctuations in a string\n",
    "    return len(re.findall(r'[.?!,;]',string))\n",
    "\n",
    "def fct_spaces(string):\n",
    "    # Count the number of spaces in a string\n",
    "    return len(re.findall(r'\\s', string))\n",
    "\n",
    "def fct_digits(string):\n",
    "    # Count the number of digits in a string\n",
    "    return len(re.findall(r'[0-9]', string))\n",
    "\n",
    "def fct_special_characters(string):\n",
    "    # Count the number of special characters\n",
    "    return len(re.findall(r'\\W', string)) - fct_spaces(string) - fct_punctuations(string)"
   ]
  },
  {
   "cell_type": "code",
   "execution_count": 195,
   "metadata": {
    "ExecuteTime": {
     "end_time": "2019-06-23T16:50:19.699313Z",
     "start_time": "2019-06-23T16:50:14.898058Z"
    },
    "collapsed": true
   },
   "outputs": [],
   "source": [
    "# Creation of a list for each statistical feature\n",
    "length_question_text = data['question_text'].apply(len)\n",
    "uppercases = data['question_text'].apply(fct_uppercases)/length_question_text\n",
    "proportion_words = data['question_text'].apply(fct_number_words)/length_question_text\n",
    "punctuations = data['question_text'].apply(fct_punctuations)/length_question_text\n",
    "special_characters = data['question_text'].apply(fct_special_characters)/length_question_text\n",
    "spaces = data['question_text'].apply(fct_spaces)/length_question_text\n",
    "digits = data['question_text'].apply(fct_digits)/length_question_text"
   ]
  },
  {
   "cell_type": "code",
   "execution_count": 196,
   "metadata": {
    "ExecuteTime": {
     "end_time": "2019-06-23T16:50:20.981334Z",
     "start_time": "2019-06-23T16:50:19.701572Z"
    }
   },
   "outputs": [
    {
     "name": "stderr",
     "output_type": "stream",
     "text": [
      "/home/theosimier/anaconda3/lib/python3.5/site-packages/scipy/stats/stats.py:1633: FutureWarning: Using a non-tuple sequence for multidimensional indexing is deprecated; use `arr[tuple(seq)]` instead of `arr[seq]`. In the future this will be interpreted as an array index, `arr[np.array(seq)]`, which will result either in an error or a different result.\n",
      "  return np.add.reduce(sorted[indexer] * weights, axis=axis) / sumval\n",
      "/home/theosimier/anaconda3/lib/python3.5/site-packages/statsmodels/nonparametric/kde.py:475: DeprecationWarning: object of type <class 'numpy.float64'> cannot be safely interpreted as an integer.\n",
      "  grid,delta = np.linspace(a,b,gridsize,retstep=True)\n"
     ]
    },
    {
     "data": {
      "text/plain": [
       "<matplotlib.axes._subplots.AxesSubplot at 0x7f1ac8513630>"
      ]
     },
     "execution_count": 196,
     "metadata": {},
     "output_type": "execute_result"
    },
    {
     "name": "stderr",
     "output_type": "stream",
     "text": [
      "/home/theosimier/anaconda3/lib/python3.5/site-packages/matplotlib/font_manager.py:1297: UserWarning: findfont: Font family ['sans-serif'] not found. Falling back to DejaVu Sans\n",
      "  (prop.get_family(), self.defaultFamily[fontext]))\n"
     ]
    },
    {
     "data": {
      "image/png": "[encoded data removed]",
      "text/plain": [
       "<matplotlib.figure.Figure at 0x7f1b0a925240>"
      ]
     },
     "metadata": {},
     "output_type": "display_data"
    }
   ],
   "source": [
    "sns.distplot(data['question_text'].apply(fct_number_words))"
   ]
  },
  {
   "cell_type": "code",
   "execution_count": 197,
   "metadata": {
    "ExecuteTime": {
     "end_time": "2019-06-23T16:50:20.988837Z",
     "start_time": "2019-06-23T16:50:20.983419Z"
    }
   },
   "outputs": [
    {
     "data": {
      "text/plain": [
       "'How do I become a bodybuilder in India?'"
      ]
     },
     "execution_count": 197,
     "metadata": {},
     "output_type": "execute_result"
    }
   ],
   "source": [
    "data.iloc[0,1]"
   ]
  },
  {
   "cell_type": "code",
   "execution_count": 198,
   "metadata": {
    "ExecuteTime": {
     "end_time": "2019-06-23T16:50:20.996777Z",
     "start_time": "2019-06-23T16:50:20.990996Z"
    }
   },
   "outputs": [
    {
     "data": {
      "text/plain": [
       "'How should one need to plan for the preparation of GATE 2019?'"
      ]
     },
     "execution_count": 198,
     "metadata": {},
     "output_type": "execute_result"
    }
   ],
   "source": [
    "data.iloc[1,1]"
   ]
  },
  {
   "cell_type": "code",
   "execution_count": 199,
   "metadata": {
    "ExecuteTime": {
     "end_time": "2019-06-23T16:50:21.013629Z",
     "start_time": "2019-06-23T16:50:20.998909Z"
    }
   },
   "outputs": [
    {
     "name": "stderr",
     "output_type": "stream",
     "text": [
      "/home/theosimier/anaconda3/lib/python3.5/site-packages/sklearn/utils/validation.py:429: DataConversionWarning: Data with input dtype int64 was converted to float64 by MinMaxScaler.\n",
      "  warnings.warn(msg, _DataConversionWarning)\n"
     ]
    }
   ],
   "source": [
    "# Scaler\n",
    "scaler = MinMaxScaler()\n",
    "# Scaling\n",
    "length_question_text = scaler.fit_transform(np.asarray(length_question_text).reshape(-1,1))\n",
    "uppercases = scaler.fit_transform(np.asarray(uppercases).reshape(-1,1))\n",
    "proportion_words = scaler.fit_transform(np.asarray(proportion_words).reshape(-1,1))\n",
    "punctuations = scaler.fit_transform(np.asarray(punctuations).reshape(-1,1))\n",
    "special_characters = scaler.fit_transform(np.asarray(special_characters).reshape(-1,1))\n",
    "spaces = scaler.fit_transform(np.asarray(spaces).reshape(-1,1))\n",
    "digits = scaler.fit_transform(np.asarray(digits).reshape(-1,1))"
   ]
  },
  {
   "cell_type": "code",
   "execution_count": 200,
   "metadata": {
    "ExecuteTime": {
     "end_time": "2019-06-23T16:50:21.272999Z",
     "start_time": "2019-06-23T16:50:21.015692Z"
    },
    "collapsed": true
   },
   "outputs": [],
   "source": [
    "# Scale \n",
    "# Creation of a sparce matrix\n",
    "statistical_features_matrix = csr_matrix(list(zip(length_question_text.flatten(), uppercases.flatten(), proportion_words.flatten(), punctuations.flatten(), special_characters.flatten(), spaces.flatten(), digits.flatten())))\n",
    "# Deleation of the lists that were included in the sparce matrix.\n",
    "del length_question_text, uppercases, proportion_words, punctuations, special_characters, spaces, digits"
   ]
  },
  {
   "cell_type": "markdown",
   "metadata": {},
   "source": [
    "## Normalization of the data (cleaning)"
   ]
  },
  {
   "cell_type": "markdown",
   "metadata": {
    "ExecuteTime": {
     "end_time": "2019-04-15T15:03:09.728133Z",
     "start_time": "2019-04-15T15:03:09.712509Z"
    }
   },
   "source": [
    "### Array not normalized"
   ]
  },
  {
   "cell_type": "code",
   "execution_count": 201,
   "metadata": {
    "ExecuteTime": {
     "end_time": "2019-06-23T16:50:21.281021Z",
     "start_time": "2019-06-23T16:50:21.275624Z"
    },
    "collapsed": true
   },
   "outputs": [],
   "source": [
    "count_vect_not_normalized = CountVectorizer(lowercase=False, min_df=1)\n",
    "# Create an object from the class CountVectorizer\n",
    "# lowercase: Convert all characters to lowercase before tokenizing.\n",
    "# stop_words : 'english', a built-in stop word list for English is used.\n",
    "# min_df: When building the vocabulary ignore terms that have a document frequency strictly lower than the given threshold."
   ]
  },
  {
   "cell_type": "code",
   "execution_count": 202,
   "metadata": {
    "ExecuteTime": {
     "end_time": "2019-06-23T16:50:23.614047Z",
     "start_time": "2019-06-23T16:50:21.283250Z"
    }
   },
   "outputs": [
    {
     "name": "stderr",
     "output_type": "stream",
     "text": [
      "/home/theosimier/anaconda3/lib/python3.5/site-packages/numpy/matrixlib/defmatrix.py:71: PendingDeprecationWarning: the matrix subclass is not the recommended way to represent matrices or deal with linear algebra (see https://docs.scipy.org/doc/numpy/user/numpy-for-matlab-users.html). Please adjust your code to use regular ndarray.\n",
      "  return matrix(data, dtype=dtype, copy=False)\n"
     ]
    }
   ],
   "source": [
    "data_not_normalized_matrix = count_vect_not_normalized.fit_transform(questions)\n",
    "del questions\n",
    "# Use the object on our data.\n",
    "# Count the occurence of words for our data\n",
    "# Create a sparse matrix\n",
    "# We keep this data to be able to use it as a baseline."
   ]
  },
  {
   "cell_type": "code",
   "execution_count": 203,
   "metadata": {
    "ExecuteTime": {
     "end_time": "2019-06-23T16:50:23.838008Z",
     "start_time": "2019-06-23T16:50:23.616307Z"
    }
   },
   "outputs": [
    {
     "name": "stderr",
     "output_type": "stream",
     "text": [
      "/home/theosimier/anaconda3/lib/python3.5/site-packages/matplotlib/font_manager.py:1297: UserWarning: findfont: Font family ['sans-serif'] not found. Falling back to DejaVu Sans\n",
      "  (prop.get_family(), self.defaultFamily[fontext]))\n"
     ]
    },
    {
     "name": "stdout",
     "output_type": "stream",
     "text": [
      "We have a sparse matrix.\n"
     ]
    },
    {
     "data": {
      "image/png": "[encoded data removed]",
      "text/plain": [
       "<matplotlib.figure.Figure at 0x7f1b083224e0>"
      ]
     },
     "metadata": {},
     "output_type": "display_data"
    }
   ],
   "source": [
    "plt.spy(data_not_normalized_matrix[:500, :500].toarray())\n",
    "plt.title(\"Sparse Matrix\", y=1.2);\n",
    "print(\"We have a sparse matrix.\")"
   ]
  },
  {
   "cell_type": "markdown",
   "metadata": {
    "ExecuteTime": {
     "end_time": "2019-04-10T14:13:48.287309Z",
     "start_time": "2019-04-10T14:13:48.271687Z"
    }
   },
   "source": [
    "### Preliminary Cleaning"
   ]
  },
  {
   "cell_type": "code",
   "execution_count": 204,
   "metadata": {
    "ExecuteTime": {
     "end_time": "2019-06-23T16:50:23.843245Z",
     "start_time": "2019-06-23T16:50:23.840080Z"
    },
    "collapsed": true
   },
   "outputs": [],
   "source": [
    "test = \"  I don't buy   cheap cheese! Never less than 10$/kg.           Do you ? \""
   ]
  },
  {
   "cell_type": "code",
   "execution_count": 205,
   "metadata": {
    "ExecuteTime": {
     "end_time": "2019-06-23T16:50:23.855930Z",
     "start_time": "2019-06-23T16:50:23.845117Z"
    }
   },
   "outputs": [
    {
     "name": "stdout",
     "output_type": "stream",
     "text": [
      "  I don't buy   cheap cheese! Never less than 10$/kg.           Do you ? \n",
      "  I dont buy   cheap cheese! Never less than 10$/kg.           Do you ? \n",
      "  I dont buy   cheap cheese  Never less than  kg            Do you   \n",
      " I dont buy cheap cheese Never less than kg Do you \n",
      "I dont buy cheap cheese Never less than kg Do you \n",
      "I dont buy cheap cheese Never less than kg Do you\n",
      "i dont buy cheap cheese never less than kg do you\n"
     ]
    }
   ],
   "source": [
    "result = re.sub(r\"\\s\",' ', test)  # replace ASCII spaces ( \\n\\r\\t\\f) by a simple space.\n",
    "print(result)\n",
    "result = re.sub(r\"\\'\",'',result) # remove apostrophe\n",
    "print(result)\n",
    "result = re.sub(r'[^a-zA-Z\\s]+',' ',result) # Replace everything that is not letter or space by a space\n",
    "print(result)\n",
    "result = re.sub(r'\\s{2,}',\" \",result)  # Replace double (or more) spaces by a simple space\n",
    "print(result)\n",
    "result = re.sub(r'^\\s',\"\",result)  #  Remove starting spaces\n",
    "print(result)\n",
    "result = re.sub(r'\\s$',\"\",result)  # Remove ending spaces\n",
    "print(result)\n",
    "result = result.lower()\n",
    "print(result)"
   ]
  },
  {
   "cell_type": "code",
   "execution_count": 206,
   "metadata": {
    "ExecuteTime": {
     "end_time": "2019-06-23T16:50:27.599395Z",
     "start_time": "2019-06-23T16:50:23.858166Z"
    },
    "collapsed": true
   },
   "outputs": [],
   "source": [
    "data[\"question_text\"] = data[\"question_text\"].apply(lambda x: re.sub(r\"\\s\",' ', x))  # replace ASCII spaces ( \\n\\r\\t\\f) by a simple space.\n",
    "data[\"question_text\"] = data[\"question_text\"].apply(lambda x: re.sub(r\"\\'\",'', x))  # remove apostrophe\n",
    "data[\"question_text\"] = data[\"question_text\"].apply(lambda x: re.sub(r'[^a-zA-Z\\s]+',' ',x))  # Replace everything that is not letter or space by a space.\n",
    "data[\"question_text\"] = data[\"question_text\"].apply(lambda x: re.sub(r'\\s{2,}',\" \",x))  # Replace double (or more) spaces by a simple space\n",
    "data[\"question_text\"] = data[\"question_text\"].apply(lambda x: re.sub(r'^\\s',\"\",x))  # Remove starting spaces\n",
    "data[\"question_text\"] = data[\"question_text\"].apply(lambda x: re.sub(r'\\s$',\"\",x))  # Remove ending spaces\n",
    "data[\"question_text\"] = data[\"question_text\"].str.lower()  # To lower case"
   ]
  },
  {
   "cell_type": "code",
   "execution_count": 207,
   "metadata": {
    "ExecuteTime": {
     "end_time": "2019-06-23T16:50:27.609169Z",
     "start_time": "2019-06-23T16:50:27.601669Z"
    }
   },
   "outputs": [
    {
     "data": {
      "text/plain": [
       "0                         how do i become a bodybuilder in india\n",
       "1        how should one need to plan for the preparation of gate\n",
       "2    who is the governing authority for dmv regulations and l...\n",
       "3    when im looking for a phosphorylated protein in western ...\n",
       "4    what are the tubes called that lead from the diesel filt...\n",
       "5          why are the japanese so needy to be told theyre great\n",
       "Name: question_text, dtype: object"
      ]
     },
     "execution_count": 207,
     "metadata": {},
     "output_type": "execute_result"
    }
   ],
   "source": [
    "data.loc[0:5,\"question_text\"]"
   ]
  },
  {
   "cell_type": "markdown",
   "metadata": {
    "ExecuteTime": {
     "end_time": "2019-04-11T09:25:36.706238Z",
     "start_time": "2019-04-11T09:25:36.701251Z"
    }
   },
   "source": [
    "### Tokenization"
   ]
  },
  {
   "cell_type": "code",
   "execution_count": 208,
   "metadata": {
    "ExecuteTime": {
     "end_time": "2019-06-23T16:50:27.617067Z",
     "start_time": "2019-06-23T16:50:27.611421Z"
    }
   },
   "outputs": [
    {
     "data": {
      "text/plain": [
       "['i',\n",
       " 'dont',\n",
       " 'buy',\n",
       " 'cheap',\n",
       " 'cheese',\n",
       " 'never',\n",
       " 'less',\n",
       " 'than',\n",
       " 'kg',\n",
       " 'do',\n",
       " 'you']"
      ]
     },
     "execution_count": 208,
     "metadata": {},
     "output_type": "execute_result"
    }
   ],
   "source": [
    "word_tokenize(result)"
   ]
  },
  {
   "cell_type": "code",
   "execution_count": 209,
   "metadata": {
    "ExecuteTime": {
     "end_time": "2019-06-23T16:50:27.622920Z",
     "start_time": "2019-06-23T16:50:27.619267Z"
    },
    "collapsed": true
   },
   "outputs": [],
   "source": [
    "data_list = list()  # List that will contain the sentences."
   ]
  },
  {
   "cell_type": "code",
   "execution_count": 210,
   "metadata": {
    "ExecuteTime": {
     "end_time": "2019-06-23T16:50:43.657012Z",
     "start_time": "2019-06-23T16:50:27.625159Z"
    },
    "collapsed": true
   },
   "outputs": [],
   "source": [
    "for sentence in data['question_text']:\n",
    "    sentence = word_tokenize(sentence)\n",
    "    data_list.append(sentence)\n",
    "del data"
   ]
  },
  {
   "cell_type": "code",
   "execution_count": 211,
   "metadata": {
    "ExecuteTime": {
     "end_time": "2019-06-23T16:50:43.664033Z",
     "start_time": "2019-06-23T16:50:43.659275Z"
    }
   },
   "outputs": [
    {
     "data": {
      "text/plain": [
       "[['how', 'do', 'i', 'become', 'a', 'bodybuilder', 'in', 'india'],\n",
       " ['how',\n",
       "  'should',\n",
       "  'one',\n",
       "  'need',\n",
       "  'to',\n",
       "  'plan',\n",
       "  'for',\n",
       "  'the',\n",
       "  'preparation',\n",
       "  'of',\n",
       "  'gate']]"
      ]
     },
     "execution_count": 211,
     "metadata": {},
     "output_type": "execute_result"
    }
   ],
   "source": [
    "data_list[:2]"
   ]
  },
  {
   "cell_type": "markdown",
   "metadata": {
    "ExecuteTime": {
     "end_time": "2019-04-11T09:40:36.428449Z",
     "start_time": "2019-04-11T09:40:36.423843Z"
    }
   },
   "source": [
    "### Word Frequency"
   ]
  },
  {
   "cell_type": "code",
   "execution_count": 212,
   "metadata": {
    "ExecuteTime": {
     "end_time": "2019-06-23T16:50:44.034105Z",
     "start_time": "2019-06-23T16:50:43.665647Z"
    }
   },
   "outputs": [
    {
     "data": {
      "text/plain": [
       "48125"
      ]
     },
     "execution_count": 212,
     "metadata": {},
     "output_type": "execute_result"
    }
   ],
   "source": [
    "# Set with our words\n",
    "set_words = set()\n",
    "for sentence in data_list:\n",
    "    for word in sentence:\n",
    "        if word not in set_words:\n",
    "            set_words.add(word)\n",
    "len(set_words)"
   ]
  },
  {
   "cell_type": "code",
   "execution_count": 213,
   "metadata": {
    "ExecuteTime": {
     "end_time": "2019-06-23T16:50:44.543586Z",
     "start_time": "2019-06-23T16:50:44.036102Z"
    },
    "collapsed": true
   },
   "outputs": [],
   "source": [
    "# Dictionnary with the count of words\n",
    "frequency_words = defaultdict(int)\n",
    "\n",
    "for key in set_words:\n",
    "    frequency_words[key] = 0\n",
    "\n",
    "for sentence in data_list:\n",
    "    for word in sentence:\n",
    "        frequency_words[word] += 1"
   ]
  },
  {
   "cell_type": "code",
   "execution_count": 214,
   "metadata": {
    "ExecuteTime": {
     "end_time": "2019-06-23T16:50:44.589859Z",
     "start_time": "2019-06-23T16:50:44.545924Z"
    },
    "collapsed": true
   },
   "outputs": [],
   "source": [
    "list_frequency_words = sorted(frequency_words.items(), key=lambda x: x[1], reverse=True)\n",
    "# Descending frequency of words (would work too)\n",
    "#for w in sorted(frequency_words, key=frequency_words.get, reverse=True):\n",
    "    #print(w, frequency_words[w])"
   ]
  },
  {
   "cell_type": "code",
   "execution_count": 215,
   "metadata": {
    "ExecuteTime": {
     "end_time": "2019-06-23T16:50:44.605221Z",
     "start_time": "2019-06-23T16:50:44.592077Z"
    },
    "collapsed": true
   },
   "outputs": [],
   "source": [
    "# Top 50 frequency words\n",
    "top_50 = list_frequency_words[:50]\n",
    "top_50\n",
    "# We check that they are in the set of stopwords\n",
    "del list_frequency_words, frequency_words"
   ]
  },
  {
   "cell_type": "code",
   "execution_count": 216,
   "metadata": {
    "ExecuteTime": {
     "end_time": "2019-06-23T16:50:44.611247Z",
     "start_time": "2019-06-23T16:50:44.607240Z"
    },
    "collapsed": true
   },
   "outputs": [],
   "source": [
    "top_50_stopwords = set()\n",
    "for w, frequency in top_50:\n",
    "    top_50_stopwords.add(w)"
   ]
  },
  {
   "cell_type": "markdown",
   "metadata": {
    "ExecuteTime": {
     "end_time": "2019-04-10T15:17:39.684306Z",
     "start_time": "2019-04-10T15:17:39.668684Z"
    }
   },
   "source": [
    "### Deletion of the stopwords"
   ]
  },
  {
   "cell_type": "code",
   "execution_count": 217,
   "metadata": {
    "ExecuteTime": {
     "end_time": "2019-06-23T16:50:44.619646Z",
     "start_time": "2019-06-23T16:50:44.613191Z"
    }
   },
   "outputs": [
    {
     "name": "stderr",
     "output_type": "stream",
     "text": [
      "/home/theosimier/anaconda3/lib/python3.5/site-packages/nltk/corpus/reader/wordlist.py:28: ResourceWarning: unclosed file <_io.BufferedReader name='/home/theosimier/nltk_data/corpora/stopwords/english'>\n",
      "  return concat([self.open(f).read() for f in fileids])\n"
     ]
    },
    {
     "data": {
      "text/plain": [
       "179"
      ]
     },
     "execution_count": 217,
     "metadata": {},
     "output_type": "execute_result"
    }
   ],
   "source": [
    "stopwords_nltk = set(stopwords.words('english')) # Stopwords of NLTK\n",
    "len(stopwords_nltk)"
   ]
  },
  {
   "cell_type": "code",
   "execution_count": 218,
   "metadata": {
    "ExecuteTime": {
     "end_time": "2019-06-23T16:50:44.626682Z",
     "start_time": "2019-06-23T16:50:44.621555Z"
    }
   },
   "outputs": [
    {
     "data": {
      "text/plain": [
       "185"
      ]
     },
     "execution_count": 218,
     "metadata": {},
     "output_type": "execute_result"
    }
   ],
   "source": [
    "mystopwords = top_50_stopwords|stopwords_nltk  # =+ or\n",
    "len(mystopwords)"
   ]
  },
  {
   "cell_type": "code",
   "execution_count": 219,
   "metadata": {
    "ExecuteTime": {
     "end_time": "2019-06-23T16:50:44.633329Z",
     "start_time": "2019-06-23T16:50:44.628578Z"
    }
   },
   "outputs": [
    {
     "data": {
      "text/plain": [
       "{'get', 'like', 'people', 'trump', 'women', 'would'}"
      ]
     },
     "execution_count": 219,
     "metadata": {},
     "output_type": "execute_result"
    }
   ],
   "source": [
    "top_50_stopwords - stopwords_nltk"
   ]
  },
  {
   "cell_type": "code",
   "execution_count": 220,
   "metadata": {
    "ExecuteTime": {
     "end_time": "2019-06-23T16:50:44.639631Z",
     "start_time": "2019-06-23T16:50:44.635063Z"
    }
   },
   "outputs": [
    {
     "name": "stdout",
     "output_type": "stream",
     "text": [
      "We have added 6 stopwords. {'women', 'get', 'like', 'people', 'would', 'trump'}\n"
     ]
    }
   ],
   "source": [
    "print(\"We have added {} stopwords. {}\".format(len(mystopwords)-len(stopwords_nltk), top_50_stopwords - stopwords_nltk))"
   ]
  },
  {
   "cell_type": "code",
   "execution_count": 221,
   "metadata": {
    "ExecuteTime": {
     "end_time": "2019-06-23T16:50:44.647935Z",
     "start_time": "2019-06-23T16:50:44.641342Z"
    }
   },
   "outputs": [
    {
     "data": {
      "text/plain": [
       "{'a',\n",
       " 'about',\n",
       " 'above',\n",
       " 'after',\n",
       " 'again',\n",
       " 'against',\n",
       " 'ain',\n",
       " 'all',\n",
       " 'am',\n",
       " 'an',\n",
       " 'and',\n",
       " 'any',\n",
       " 'are',\n",
       " 'aren',\n",
       " \"aren't\",\n",
       " 'as',\n",
       " 'at',\n",
       " 'be',\n",
       " 'because',\n",
       " 'been',\n",
       " 'before',\n",
       " 'being',\n",
       " 'below',\n",
       " 'between',\n",
       " 'both',\n",
       " 'but',\n",
       " 'by',\n",
       " 'can',\n",
       " 'couldn',\n",
       " \"couldn't\",\n",
       " 'd',\n",
       " 'did',\n",
       " 'didn',\n",
       " \"didn't\",\n",
       " 'do',\n",
       " 'does',\n",
       " 'doesn',\n",
       " \"doesn't\",\n",
       " 'doing',\n",
       " 'don',\n",
       " \"don't\",\n",
       " 'down',\n",
       " 'during',\n",
       " 'each',\n",
       " 'few',\n",
       " 'for',\n",
       " 'from',\n",
       " 'further',\n",
       " 'get',\n",
       " 'had',\n",
       " 'hadn',\n",
       " \"hadn't\",\n",
       " 'has',\n",
       " 'hasn',\n",
       " \"hasn't\",\n",
       " 'have',\n",
       " 'haven',\n",
       " \"haven't\",\n",
       " 'having',\n",
       " 'he',\n",
       " 'her',\n",
       " 'here',\n",
       " 'hers',\n",
       " 'herself',\n",
       " 'him',\n",
       " 'himself',\n",
       " 'his',\n",
       " 'how',\n",
       " 'i',\n",
       " 'if',\n",
       " 'in',\n",
       " 'into',\n",
       " 'is',\n",
       " 'isn',\n",
       " \"isn't\",\n",
       " 'it',\n",
       " \"it's\",\n",
       " 'its',\n",
       " 'itself',\n",
       " 'just',\n",
       " 'like',\n",
       " 'll',\n",
       " 'm',\n",
       " 'ma',\n",
       " 'me',\n",
       " 'mightn',\n",
       " \"mightn't\",\n",
       " 'more',\n",
       " 'most',\n",
       " 'mustn',\n",
       " \"mustn't\",\n",
       " 'my',\n",
       " 'myself',\n",
       " 'needn',\n",
       " \"needn't\",\n",
       " 'no',\n",
       " 'nor',\n",
       " 'not',\n",
       " 'now',\n",
       " 'o',\n",
       " 'of',\n",
       " 'off',\n",
       " 'on',\n",
       " 'once',\n",
       " 'only',\n",
       " 'or',\n",
       " 'other',\n",
       " 'our',\n",
       " 'ours',\n",
       " 'ourselves',\n",
       " 'out',\n",
       " 'over',\n",
       " 'own',\n",
       " 'people',\n",
       " 're',\n",
       " 's',\n",
       " 'same',\n",
       " 'shan',\n",
       " \"shan't\",\n",
       " 'she',\n",
       " \"she's\",\n",
       " 'should',\n",
       " \"should've\",\n",
       " 'shouldn',\n",
       " \"shouldn't\",\n",
       " 'so',\n",
       " 'some',\n",
       " 'such',\n",
       " 't',\n",
       " 'than',\n",
       " 'that',\n",
       " \"that'll\",\n",
       " 'the',\n",
       " 'their',\n",
       " 'theirs',\n",
       " 'them',\n",
       " 'themselves',\n",
       " 'then',\n",
       " 'there',\n",
       " 'these',\n",
       " 'they',\n",
       " 'this',\n",
       " 'those',\n",
       " 'through',\n",
       " 'to',\n",
       " 'too',\n",
       " 'trump',\n",
       " 'under',\n",
       " 'until',\n",
       " 'up',\n",
       " 've',\n",
       " 'very',\n",
       " 'was',\n",
       " 'wasn',\n",
       " \"wasn't\",\n",
       " 'we',\n",
       " 'were',\n",
       " 'weren',\n",
       " \"weren't\",\n",
       " 'what',\n",
       " 'when',\n",
       " 'where',\n",
       " 'which',\n",
       " 'while',\n",
       " 'who',\n",
       " 'whom',\n",
       " 'why',\n",
       " 'will',\n",
       " 'with',\n",
       " 'women',\n",
       " 'won',\n",
       " \"won't\",\n",
       " 'would',\n",
       " 'wouldn',\n",
       " \"wouldn't\",\n",
       " 'y',\n",
       " 'you',\n",
       " \"you'd\",\n",
       " \"you'll\",\n",
       " \"you're\",\n",
       " \"you've\",\n",
       " 'your',\n",
       " 'yours',\n",
       " 'yourself',\n",
       " 'yourselves'}"
      ]
     },
     "execution_count": 221,
     "metadata": {},
     "output_type": "execute_result"
    }
   ],
   "source": [
    "mystopwords"
   ]
  },
  {
   "cell_type": "code",
   "execution_count": 222,
   "metadata": {
    "ExecuteTime": {
     "end_time": "2019-06-23T16:50:44.921539Z",
     "start_time": "2019-06-23T16:50:44.649550Z"
    },
    "collapsed": true
   },
   "outputs": [],
   "source": [
    "# We remove the stopwords of our data_list\n",
    "for i, sentence in enumerate(data_list):\n",
    "    sentence = [w for w in sentence if not w in mystopwords]\n",
    "    data_list[i] = sentence"
   ]
  },
  {
   "cell_type": "code",
   "execution_count": 223,
   "metadata": {
    "ExecuteTime": {
     "end_time": "2019-06-23T16:50:44.931335Z",
     "start_time": "2019-06-23T16:50:44.926668Z"
    }
   },
   "outputs": [
    {
     "data": {
      "text/plain": [
       "[['become', 'bodybuilder', 'india'],\n",
       " ['one', 'need', 'plan', 'preparation', 'gate']]"
      ]
     },
     "execution_count": 223,
     "metadata": {},
     "output_type": "execute_result"
    }
   ],
   "source": [
    "data_list[:2]"
   ]
  },
  {
   "cell_type": "markdown",
   "metadata": {
    "ExecuteTime": {
     "end_time": "2019-04-11T13:48:28.752400Z",
     "start_time": "2019-04-11T13:48:28.729864Z"
    }
   },
   "source": [
    "### POS Tagging (Part-of-Speech Tagging)"
   ]
  },
  {
   "cell_type": "markdown",
   "metadata": {},
   "source": [
    "#### Preliminary"
   ]
  },
  {
   "cell_type": "code",
   "execution_count": 224,
   "metadata": {
    "ExecuteTime": {
     "end_time": "2019-06-23T16:50:44.938523Z",
     "start_time": "2019-06-23T16:50:44.933025Z"
    }
   },
   "outputs": [
    {
     "data": {
      "text/plain": [
       "[('eats', 'NNS')]"
      ]
     },
     "execution_count": 224,
     "metadata": {},
     "output_type": "execute_result"
    }
   ],
   "source": [
    "pos_tag(word_tokenize(\"eats\"))"
   ]
  },
  {
   "cell_type": "code",
   "execution_count": 225,
   "metadata": {
    "ExecuteTime": {
     "end_time": "2019-06-23T16:50:44.945516Z",
     "start_time": "2019-06-23T16:50:44.940313Z"
    }
   },
   "outputs": [
    {
     "data": {
      "text/plain": [
       "[('cats', 'NNS')]"
      ]
     },
     "execution_count": 225,
     "metadata": {},
     "output_type": "execute_result"
    }
   ],
   "source": [
    "pos_tag(word_tokenize(\"cats\"))"
   ]
  },
  {
   "cell_type": "code",
   "execution_count": 226,
   "metadata": {
    "ExecuteTime": {
     "end_time": "2019-06-23T16:50:44.952830Z",
     "start_time": "2019-06-23T16:50:44.947379Z"
    }
   },
   "outputs": [
    {
     "data": {
      "text/plain": [
       "[('she', 'PRP'), ('loves', 'VBZ'), ('cats', 'NNS')]"
      ]
     },
     "execution_count": 226,
     "metadata": {},
     "output_type": "execute_result"
    }
   ],
   "source": [
    "pos_tag(word_tokenize(\"she loves cats\"))"
   ]
  },
  {
   "cell_type": "code",
   "execution_count": 227,
   "metadata": {
    "ExecuteTime": {
     "end_time": "2019-06-23T16:50:44.957908Z",
     "start_time": "2019-06-23T16:50:44.954710Z"
    },
    "collapsed": true
   },
   "outputs": [],
   "source": [
    "test_list_of_list = [\n",
    "    [\"hello\",\"how\",\"are\", \"you\"],\n",
    "    [\"me\",\"i\",\"am\",\"fine\"]\n",
    "]"
   ]
  },
  {
   "cell_type": "code",
   "execution_count": 228,
   "metadata": {
    "ExecuteTime": {
     "end_time": "2019-06-23T16:50:44.968364Z",
     "start_time": "2019-06-23T16:50:44.959577Z"
    }
   },
   "outputs": [
    {
     "data": {
      "text/plain": [
       "[['hello', 'how', 'are', 'you'], ['me', 'i', 'am', 'fine']]"
      ]
     },
     "execution_count": 228,
     "metadata": {},
     "output_type": "execute_result"
    }
   ],
   "source": [
    "test_df_2 = pd.DataFrame([[\"hello how are you\",0],[\"me i am fine\",0]],columns=[\"question\",\"target\"])\n",
    "test_list_of_list2 = []\n",
    "for sentence in test_df_2['question']:\n",
    "    sentence = word_tokenize(sentence)\n",
    "    test_list_of_list2.append(sentence)\n",
    "test_list_of_list2"
   ]
  },
  {
   "cell_type": "markdown",
   "metadata": {},
   "source": [
    "Part-of-speech constants: ADJ, ADJ_SAT, ADV, NOUN, VERB = 'a', 's', 'r', 'n', 'v'  \n",
    "POS_LIST = [NOUN, VERB, ADJ, ADV]"
   ]
  },
  {
   "cell_type": "code",
   "execution_count": 229,
   "metadata": {
    "ExecuteTime": {
     "end_time": "2019-06-23T16:50:44.973770Z",
     "start_time": "2019-06-23T16:50:44.970005Z"
    }
   },
   "outputs": [
    {
     "name": "stdout",
     "output_type": "stream",
     "text": [
      "{'n': 'noun', 'a': 'adj', 'v': 'verb', 'r': 'adv'}\n"
     ]
    }
   ],
   "source": [
    "print(wn._FILEMAP)"
   ]
  },
  {
   "cell_type": "code",
   "execution_count": 230,
   "metadata": {
    "ExecuteTime": {
     "end_time": "2019-06-23T16:50:44.980208Z",
     "start_time": "2019-06-23T16:50:44.975737Z"
    },
    "collapsed": true
   },
   "outputs": [],
   "source": [
    "tag_map = defaultdict(lambda : wn.NOUN)  # Create a dictionnary with a default value of wv.NOUN\n",
    "tag_map['J'] = wn.ADJ\n",
    "tag_map['V'] = wn.VERB\n",
    "tag_map['R'] = wn.ADV"
   ]
  },
  {
   "cell_type": "code",
   "execution_count": 231,
   "metadata": {
    "ExecuteTime": {
     "end_time": "2019-06-23T16:50:44.994289Z",
     "start_time": "2019-06-23T16:50:44.981770Z"
    }
   },
   "outputs": [
    {
     "name": "stdout",
     "output_type": "stream",
     "text": [
      "what => what\n",
      "makes => make\n",
      "you => you\n",
      "start => start\n",
      "your => your\n",
      "business => business\n",
      "it => it\n",
      "is => be\n",
      "very => very\n",
      "risky => risky\n",
      "and => and\n",
      "harder => hard\n",
      "than => than\n",
      "being => be\n",
      "an => an\n",
      "employee => employee\n"
     ]
    }
   ],
   "source": [
    "text = \"what makes you start your business it is very risky and harder than being an employee\"\n",
    "tokens = word_tokenize(text) # We tokenize\n",
    "lemmatizer = WordNetLemmatizer()  # Create the lemma object\n",
    "\n",
    "for token, tag in pos_tag(tokens):\n",
    "    lemma = lemmatizer.lemmatize(token, tag_map[tag[0]])\n",
    "    print(token, \"=>\", lemma)"
   ]
  },
  {
   "cell_type": "markdown",
   "metadata": {},
   "source": [
    "**Goal: Create a set with tuple containing the word and its tag.**"
   ]
  },
  {
   "cell_type": "code",
   "execution_count": 232,
   "metadata": {
    "ExecuteTime": {
     "end_time": "2019-06-23T16:50:50.197667Z",
     "start_time": "2019-06-23T16:50:44.996093Z"
    },
    "collapsed": true
   },
   "outputs": [],
   "source": [
    "list_token_tag = pos_tag(list(set_words))"
   ]
  },
  {
   "cell_type": "code",
   "execution_count": 233,
   "metadata": {
    "ExecuteTime": {
     "end_time": "2019-06-23T16:50:50.237496Z",
     "start_time": "2019-06-23T16:50:50.199951Z"
    },
    "collapsed": true
   },
   "outputs": [],
   "source": [
    "token_keys = []\n",
    "tag_values = []\n",
    "for token, tag in list_token_tag:\n",
    "    token_keys.append(token)\n",
    "    tag_values.append(tag)\n",
    "del list_token_tag"
   ]
  },
  {
   "cell_type": "code",
   "execution_count": 234,
   "metadata": {
    "ExecuteTime": {
     "end_time": "2019-06-23T16:50:50.261395Z",
     "start_time": "2019-06-23T16:50:50.239657Z"
    },
    "collapsed": true
   },
   "outputs": [],
   "source": [
    "# Dictionnary that contain the token and its tag value.\n",
    "tag_map_words = dict(zip(token_keys, tag_values))\n",
    "del token_keys, tag_values"
   ]
  },
  {
   "cell_type": "code",
   "execution_count": 235,
   "metadata": {
    "ExecuteTime": {
     "end_time": "2019-06-23T16:50:50.270130Z",
     "start_time": "2019-06-23T16:50:50.263725Z"
    }
   },
   "outputs": [
    {
     "name": "stdout",
     "output_type": "stream",
     "text": [
      "proofread: NN\n",
      "nowhere: RB\n",
      "voted: VBD\n",
      "constituting: VBG\n",
      "straitstimes: NNS\n"
     ]
    }
   ],
   "source": [
    "# We iterate over the first 5 keys.\n",
    "i = 0\n",
    "for key in tag_map_words:\n",
    "    i += 1\n",
    "    if i > 5:\n",
    "        break\n",
    "    else:\n",
    "        print(\"{}: {}\".format(key, tag_map_words[key]))"
   ]
  },
  {
   "cell_type": "code",
   "execution_count": 236,
   "metadata": {
    "ExecuteTime": {
     "end_time": "2019-06-23T16:50:50.277213Z",
     "start_time": "2019-06-23T16:50:50.272122Z"
    },
    "collapsed": true
   },
   "outputs": [],
   "source": [
    "# The function lemmatizer.lemmatize only accept 'n', 'a', 'v', 'r' as value of the pos argument\n",
    "# We need to create a dictionnary that for all possible value of the function pos_tag (in fact all first letter, \n",
    "# has a value that is valid for the function lemmatizer.\n",
    "tag_map = defaultdict(lambda : wn.NOUN)  # 'n'\n",
    "tag_map['J'] = wn.ADJ  # 'a'\n",
    "tag_map['V'] = wn.VERB  # 'v'\n",
    "tag_map['R'] = wn.ADV  # 'r'"
   ]
  },
  {
   "cell_type": "markdown",
   "metadata": {},
   "source": [
    "### Stemming"
   ]
  },
  {
   "cell_type": "code",
   "execution_count": 237,
   "metadata": {
    "ExecuteTime": {
     "end_time": "2019-06-23T16:50:50.284979Z",
     "start_time": "2019-06-23T16:50:50.278896Z"
    }
   },
   "outputs": [
    {
     "data": {
      "text/plain": [
       "[('us', 'PRP')]"
      ]
     },
     "execution_count": 237,
     "metadata": {},
     "output_type": "execute_result"
    }
   ],
   "source": [
    "pos_tag(word_tokenize('us'))"
   ]
  },
  {
   "cell_type": "code",
   "execution_count": 238,
   "metadata": {
    "ExecuteTime": {
     "end_time": "2019-06-23T16:50:50.291229Z",
     "start_time": "2019-06-23T16:50:50.287005Z"
    },
    "collapsed": true
   },
   "outputs": [],
   "source": [
    "test_phrase = \"what makes you start your business it is very risky and harder than being an employee\"\n",
    "test_list = word_tokenize(test_phrase)"
   ]
  },
  {
   "cell_type": "code",
   "execution_count": 239,
   "metadata": {
    "ExecuteTime": {
     "end_time": "2019-06-23T16:50:50.297684Z",
     "start_time": "2019-06-23T16:50:50.293033Z"
    },
    "collapsed": true
   },
   "outputs": [],
   "source": [
    "#create an object of class PorterStemmer\n",
    "porter = PorterStemmer()\n",
    "lancaster=LancasterStemmer()"
   ]
  },
  {
   "cell_type": "code",
   "execution_count": 240,
   "metadata": {
    "ExecuteTime": {
     "end_time": "2019-06-23T16:50:50.304747Z",
     "start_time": "2019-06-23T16:50:50.299415Z"
    }
   },
   "outputs": [
    {
     "data": {
      "text/plain": [
       "'what makes you start your business it is very risky and harder than being an employe'"
      ]
     },
     "execution_count": 240,
     "metadata": {},
     "output_type": "execute_result"
    }
   ],
   "source": [
    "porter.stem(test_phrase)"
   ]
  },
  {
   "cell_type": "code",
   "execution_count": 241,
   "metadata": {
    "ExecuteTime": {
     "end_time": "2019-06-23T16:50:50.311796Z",
     "start_time": "2019-06-23T16:50:50.306695Z"
    }
   },
   "outputs": [
    {
     "data": {
      "text/plain": [
       "'what makes you start your business it is very risky and harder than being an employee'"
      ]
     },
     "execution_count": 241,
     "metadata": {},
     "output_type": "execute_result"
    }
   ],
   "source": [
    "lancaster.stem(test_phrase)"
   ]
  },
  {
   "cell_type": "code",
   "execution_count": 242,
   "metadata": {
    "ExecuteTime": {
     "end_time": "2019-06-23T16:50:50.318474Z",
     "start_time": "2019-06-23T16:50:50.313990Z"
    }
   },
   "outputs": [
    {
     "data": {
      "text/plain": [
       "'cat'"
      ]
     },
     "execution_count": 242,
     "metadata": {},
     "output_type": "execute_result"
    }
   ],
   "source": [
    "lancaster.stem('cats')"
   ]
  },
  {
   "cell_type": "code",
   "execution_count": 243,
   "metadata": {
    "ExecuteTime": {
     "end_time": "2019-06-23T16:50:50.325171Z",
     "start_time": "2019-06-23T16:50:50.320307Z"
    }
   },
   "outputs": [
    {
     "data": {
      "text/plain": [
       "\"car'\""
      ]
     },
     "execution_count": 243,
     "metadata": {},
     "output_type": "execute_result"
    }
   ],
   "source": [
    "porter.stem(\"car's\")"
   ]
  },
  {
   "cell_type": "markdown",
   "metadata": {},
   "source": [
    "### Lemmatization"
   ]
  },
  {
   "cell_type": "code",
   "execution_count": 244,
   "metadata": {
    "ExecuteTime": {
     "end_time": "2019-06-23T16:50:50.353882Z",
     "start_time": "2019-06-23T16:50:50.327086Z"
    }
   },
   "outputs": [
    {
     "name": "stdout",
     "output_type": "stream",
     "text": [
      "['become', 'bodybuilder', 'india']\n",
      "['become', 'bodybuilder', 'india']\n",
      "['one', 'need', 'plan', 'preparation', 'gate']\n",
      "['one', 'need', 'plan', 'preparation', 'gate']\n"
     ]
    }
   ],
   "source": [
    "##### What is does ####\n",
    "data_lemma_list = []\n",
    "for my_list in data_list[:2]:\n",
    "    lemma_list = []\n",
    "    for token in my_list:\n",
    "        lemma = lemmatizer.lemmatize(token, tag_map[tag_map_words[token][0]])\n",
    "        lemma_list.append(lemma)\n",
    "    data_lemma_list.append(lemma_list)\n",
    "    print(my_list)\n",
    "    print(lemma_list)"
   ]
  },
  {
   "cell_type": "code",
   "execution_count": 245,
   "metadata": {
    "ExecuteTime": {
     "end_time": "2019-06-23T16:50:50.361040Z",
     "start_time": "2019-06-23T16:50:50.355898Z"
    }
   },
   "outputs": [
    {
     "data": {
      "text/plain": [
       "'eat'"
      ]
     },
     "execution_count": 245,
     "metadata": {},
     "output_type": "execute_result"
    }
   ],
   "source": [
    "lemmatizer.lemmatize('eats', 'v')"
   ]
  },
  {
   "cell_type": "code",
   "execution_count": 246,
   "metadata": {
    "ExecuteTime": {
     "end_time": "2019-06-23T16:50:50.367710Z",
     "start_time": "2019-06-23T16:50:50.362936Z"
    }
   },
   "outputs": [
    {
     "data": {
      "text/plain": [
       "\"for token in ['eats','translate','women','are','saw','cats']:\\n    a = lemmatizer.lemmatize(token, tag_map[tag_map_words[token][0]])\\n    print(a)\""
      ]
     },
     "execution_count": 246,
     "metadata": {},
     "output_type": "execute_result"
    }
   ],
   "source": [
    "\"\"\"for token in ['eats','translate','women','are','saw','cats']:\n",
    "    a = lemmatizer.lemmatize(token, tag_map[tag_map_words[token][0]])\n",
    "    print(a)\"\"\""
   ]
  },
  {
   "cell_type": "code",
   "execution_count": 247,
   "metadata": {
    "ExecuteTime": {
     "end_time": "2019-06-23T16:50:55.680846Z",
     "start_time": "2019-06-23T16:50:50.369610Z"
    },
    "collapsed": true
   },
   "outputs": [],
   "source": [
    "# We do the lemmatization\n",
    "data_lemma_list = []  # New list of list\n",
    "for my_list in data_list:\n",
    "    lemma_list = []\n",
    "    for token in my_list:\n",
    "        lemma = lemmatizer.lemmatize(token, tag_map[tag_map_words[token][0]])\n",
    "        lemma_list.append(lemma)\n",
    "    data_lemma_list.append(lemma_list)\n",
    "del data_list, tag_map_words"
   ]
  },
  {
   "cell_type": "code",
   "execution_count": 248,
   "metadata": {
    "ExecuteTime": {
     "end_time": "2019-06-23T16:50:55.691908Z",
     "start_time": "2019-06-23T16:50:55.687693Z"
    }
   },
   "outputs": [
    {
     "data": {
      "text/plain": [
       "48125"
      ]
     },
     "execution_count": 248,
     "metadata": {},
     "output_type": "execute_result"
    }
   ],
   "source": [
    "len(set_words)"
   ]
  },
  {
   "cell_type": "code",
   "execution_count": 249,
   "metadata": {
    "ExecuteTime": {
     "end_time": "2019-06-23T16:50:55.920875Z",
     "start_time": "2019-06-23T16:50:55.693973Z"
    }
   },
   "outputs": [
    {
     "data": {
      "text/plain": [
       "39076"
      ]
     },
     "execution_count": 249,
     "metadata": {},
     "output_type": "execute_result"
    }
   ],
   "source": [
    "# Set with our words that are lemmatized.\n",
    "set_lemma_words = set()\n",
    "for sentence in data_lemma_list:\n",
    "    for word in sentence:\n",
    "        if word not in set_lemma_words:\n",
    "            set_lemma_words.add(word)\n",
    "length_set_lemma_words = len(set_lemma_words)\n",
    "length_set_lemma_words"
   ]
  },
  {
   "cell_type": "code",
   "execution_count": 250,
   "metadata": {
    "ExecuteTime": {
     "end_time": "2019-06-23T16:50:55.927485Z",
     "start_time": "2019-06-23T16:50:55.922988Z"
    }
   },
   "outputs": [
    {
     "name": "stdout",
     "output_type": "stream",
     "text": [
      "The result of the lemmatization is that we have 9049 less words in our dataset.\n"
     ]
    }
   ],
   "source": [
    "print(\"The result of the lemmatization is that we have {} less words in our dataset.\".format(len(set_words) - length_set_lemma_words))"
   ]
  },
  {
   "cell_type": "code",
   "execution_count": 251,
   "metadata": {
    "ExecuteTime": {
     "end_time": "2019-06-23T16:50:55.938385Z",
     "start_time": "2019-06-23T16:50:55.929407Z"
    }
   },
   "outputs": [
    {
     "name": "stdout",
     "output_type": "stream",
     "text": [
      "We also have 1421 new words.\n"
     ]
    }
   ],
   "source": [
    "print(\"We also have {} new words.\".format(len(set_lemma_words - set_words)))\n",
    "del set_lemma_words"
   ]
  },
  {
   "cell_type": "code",
   "execution_count": 252,
   "metadata": {
    "ExecuteTime": {
     "end_time": "2019-06-23T16:50:55.946767Z",
     "start_time": "2019-06-23T16:50:55.940443Z"
    },
    "collapsed": true
   },
   "outputs": [],
   "source": [
    "del set_words"
   ]
  },
  {
   "cell_type": "markdown",
   "metadata": {},
   "source": [
    "## Extract valuable information"
   ]
  },
  {
   "cell_type": "code",
   "execution_count": 253,
   "metadata": {
    "ExecuteTime": {
     "end_time": "2019-06-23T16:50:56.040098Z",
     "start_time": "2019-06-23T16:50:55.948854Z"
    },
    "collapsed": true
   },
   "outputs": [],
   "source": [
    "# We go from a list of list to a list of sentence.\n",
    "data_lemma_string = []\n",
    "for a_list in data_lemma_list:\n",
    "    string = \" \".join(a_list)\n",
    "    data_lemma_string.append(string)"
   ]
  },
  {
   "cell_type": "code",
   "execution_count": 254,
   "metadata": {
    "ExecuteTime": {
     "end_time": "2019-06-23T16:50:56.047114Z",
     "start_time": "2019-06-23T16:50:56.042352Z"
    }
   },
   "outputs": [
    {
     "data": {
      "text/plain": [
       "['become bodybuilder india', 'one need plan preparation gate']"
      ]
     },
     "execution_count": 254,
     "metadata": {},
     "output_type": "execute_result"
    }
   ],
   "source": [
    "data_lemma_string[:2]"
   ]
  },
  {
   "cell_type": "markdown",
   "metadata": {},
   "source": [
    "### Bag-Of-Ngrams"
   ]
  },
  {
   "cell_type": "markdown",
   "metadata": {
    "ExecuteTime": {
     "end_time": "2019-04-15T13:18:56.797900Z",
     "start_time": "2019-04-15T13:18:56.786906Z"
    }
   },
   "source": [
    "#### Bag-Of-Words N-gram N=1"
   ]
  },
  {
   "cell_type": "code",
   "execution_count": 255,
   "metadata": {
    "ExecuteTime": {
     "end_time": "2019-06-23T16:50:56.052734Z",
     "start_time": "2019-06-23T16:50:56.049032Z"
    },
    "collapsed": true
   },
   "outputs": [],
   "source": [
    "count_vect_lemma = CountVectorizer(ngram_range=(1, 1))  # Convert a collection of text documents to a matrix of token counts"
   ]
  },
  {
   "cell_type": "code",
   "execution_count": 256,
   "metadata": {
    "ExecuteTime": {
     "end_time": "2019-06-23T16:50:57.557127Z",
     "start_time": "2019-06-23T16:50:56.054763Z"
    }
   },
   "outputs": [
    {
     "name": "stderr",
     "output_type": "stream",
     "text": [
      "/home/theosimier/anaconda3/lib/python3.5/site-packages/numpy/matrixlib/defmatrix.py:71: PendingDeprecationWarning: the matrix subclass is not the recommended way to represent matrices or deal with linear algebra (see https://docs.scipy.org/doc/numpy/user/numpy-for-matlab-users.html). Please adjust your code to use regular ndarray.\n",
      "  return matrix(data, dtype=dtype, copy=False)\n"
     ]
    }
   ],
   "source": [
    "data_lemma_matrix = count_vect_lemma.fit_transform(data_lemma_string)  # Create a sparce matrix of Bag-Of-Words"
   ]
  },
  {
   "cell_type": "code",
   "execution_count": 257,
   "metadata": {
    "ExecuteTime": {
     "end_time": "2019-06-23T16:50:57.791263Z",
     "start_time": "2019-06-23T16:50:57.559395Z"
    }
   },
   "outputs": [
    {
     "name": "stderr",
     "output_type": "stream",
     "text": [
      "/home/theosimier/anaconda3/lib/python3.5/site-packages/matplotlib/font_manager.py:1297: UserWarning: findfont: Font family ['sans-serif'] not found. Falling back to DejaVu Sans\n",
      "  (prop.get_family(), self.defaultFamily[fontext]))\n"
     ]
    },
    {
     "name": "stdout",
     "output_type": "stream",
     "text": [
      "We have a sparse matrix.\n"
     ]
    },
    {
     "data": {
      "image/png": "[encoded data removed]",
      "text/plain": [
       "<matplotlib.figure.Figure at 0x7f1ac784e358>"
      ]
     },
     "metadata": {},
     "output_type": "display_data"
    }
   ],
   "source": [
    "plt.spy(data_lemma_matrix[:500, :500].toarray())\n",
    "plt.title(\"Sparse Matrix\", y=1.2);\n",
    "print(\"We have a sparse matrix.\")"
   ]
  },
  {
   "cell_type": "markdown",
   "metadata": {},
   "source": [
    "#### Bag-Of-Ngrams N-gram N=2 & N=3"
   ]
  },
  {
   "cell_type": "code",
   "execution_count": 258,
   "metadata": {
    "ExecuteTime": {
     "end_time": "2019-06-23T16:51:03.210671Z",
     "start_time": "2019-06-23T16:50:57.793522Z"
    }
   },
   "outputs": [
    {
     "name": "stderr",
     "output_type": "stream",
     "text": [
      "/home/theosimier/anaconda3/lib/python3.5/site-packages/numpy/matrixlib/defmatrix.py:71: PendingDeprecationWarning: the matrix subclass is not the recommended way to represent matrices or deal with linear algebra (see https://docs.scipy.org/doc/numpy/user/numpy-for-matlab-users.html). Please adjust your code to use regular ndarray.\n",
      "  return matrix(data, dtype=dtype, copy=False)\n"
     ]
    }
   ],
   "source": [
    "count_vect_lemma_bigram = CountVectorizer(ngram_range=(2, 2))  # Convert a collection of text documents to a matrix of token counts\n",
    "data_lemma_bigram_matrix = count_vect_lemma_bigram.fit_transform(data_lemma_string)  # Create a sparce matrix of Bag-Of-Words"
   ]
  },
  {
   "cell_type": "code",
   "execution_count": 259,
   "metadata": {
    "ExecuteTime": {
     "end_time": "2019-06-23T16:51:08.818301Z",
     "start_time": "2019-06-23T16:51:03.213395Z"
    }
   },
   "outputs": [
    {
     "name": "stderr",
     "output_type": "stream",
     "text": [
      "/home/theosimier/anaconda3/lib/python3.5/site-packages/numpy/matrixlib/defmatrix.py:71: PendingDeprecationWarning: the matrix subclass is not the recommended way to represent matrices or deal with linear algebra (see https://docs.scipy.org/doc/numpy/user/numpy-for-matlab-users.html). Please adjust your code to use regular ndarray.\n",
      "  return matrix(data, dtype=dtype, copy=False)\n"
     ]
    }
   ],
   "source": [
    "count_vect_lemma_trigram = CountVectorizer(ngram_range=(3, 3))  # Convert a collection of text documents to a matrix of token counts\n",
    "data_lemma_trigram_matrix = count_vect_lemma_trigram.fit_transform(data_lemma_string)  # Create a sparce matrix of Bag-Of-Words"
   ]
  },
  {
   "cell_type": "code",
   "execution_count": 260,
   "metadata": {
    "ExecuteTime": {
     "end_time": "2019-06-23T16:51:09.124468Z",
     "start_time": "2019-06-23T16:51:08.820512Z"
    },
    "collapsed": true
   },
   "outputs": [],
   "source": [
    "del count_vect_lemma, count_vect_lemma_bigram, count_vect_lemma_trigram"
   ]
  },
  {
   "cell_type": "markdown",
   "metadata": {
    "ExecuteTime": {
     "end_time": "2019-04-07T14:12:39.426547Z",
     "start_time": "2019-04-07T14:12:39.410857Z"
    }
   },
   "source": [
    "# Modelization"
   ]
  },
  {
   "cell_type": "markdown",
   "metadata": {
    "ExecuteTime": {
     "end_time": "2019-04-07T14:15:34.069845Z",
     "start_time": "2019-04-07T14:15:34.054158Z"
    }
   },
   "source": [
    "## Function modelization"
   ]
  },
  {
   "cell_type": "code",
   "execution_count": 261,
   "metadata": {
    "ExecuteTime": {
     "end_time": "2019-06-23T16:51:09.146799Z",
     "start_time": "2019-06-23T16:51:09.126532Z"
    },
    "collapsed": true
   },
   "outputs": [],
   "source": [
    "def fct_modelization(name_data_to_use, data_to_use, targets, df_results):\n",
    "    print(name_data_to_use)\n",
    "    # Train and test data\n",
    "    x_train, x_test, y_train, y_test = train_test_split(data_to_use, targets, test_size=0.25, random_state=5)\n",
    "    \n",
    "    # Training of our different models\n",
    "    # Logistic Regression\n",
    "    print('Logistic Regression...')\n",
    "    lr = LogisticRegression(random_state=0, solver='sag', max_iter=30000)\n",
    "    y_pred_lr = lr.fit(x_train, y_train).predict(x_test)\n",
    "    # Random forest\n",
    "    print('Random Forest...')\n",
    "    rfc = RandomForestClassifier(n_estimators=100,max_depth=20)\n",
    "    y_pred_rfc = rfc.fit(x_train, y_train).predict(x_test)\n",
    "    \n",
    "    # Results of our models\n",
    "    # Logistic Regression\n",
    "    cm_lr = confusion_matrix(y_test,y_pred_lr)\n",
    "    f1_lr = f1_score(y_test, y_pred_lr)\n",
    "    accuracy_score_lr = accuracy_score(y_test, y_pred_lr)\n",
    "    # Random Forest\n",
    "    cm_rfc = confusion_matrix(y_test,y_pred_rfc)\n",
    "    f1_rfc = f1_score(y_test, y_pred_rfc, average='binary',pos_label=1)\n",
    "    accuracy_score_rfc = accuracy_score(y_test, y_pred_rfc)\n",
    "    \n",
    "    # We save the results\n",
    "    result = [name_data_to_use,\n",
    "              cm_lr, f1_lr, accuracy_score_lr,\n",
    "              cm_rfc, f1_rfc, accuracy_score_rfc]\n",
    "    df_results.loc[len(df_results)] = result"
   ]
  },
  {
   "cell_type": "markdown",
   "metadata": {
    "ExecuteTime": {
     "end_time": "2019-04-07T15:00:09.360316Z",
     "start_time": "2019-04-07T15:00:09.344696Z"
    }
   },
   "source": [
    "## Modelization"
   ]
  },
  {
   "cell_type": "code",
   "execution_count": 262,
   "metadata": {
    "ExecuteTime": {
     "end_time": "2019-06-23T16:51:09.155395Z",
     "start_time": "2019-06-23T16:51:09.149189Z"
    }
   },
   "outputs": [
    {
     "data": {
      "text/plain": [
       "((100000, 57405),\n",
       " (100000, 39056),\n",
       " (100000, 7),\n",
       " (100000, 444120),\n",
       " (100000, 516532))"
      ]
     },
     "execution_count": 262,
     "metadata": {},
     "output_type": "execute_result"
    }
   ],
   "source": [
    "data_not_normalized_matrix.shape, data_lemma_matrix.shape, statistical_features_matrix.shape, data_lemma_bigram_matrix.shape, data_lemma_trigram_matrix.shape"
   ]
  },
  {
   "cell_type": "code",
   "execution_count": 263,
   "metadata": {
    "ExecuteTime": {
     "end_time": "2019-06-23T16:51:09.242664Z",
     "start_time": "2019-06-23T16:51:09.157232Z"
    },
    "collapsed": true
   },
   "outputs": [],
   "source": [
    "# columns of the dataframe\n",
    "columns_results= ['data',\n",
    "                  'cm_lr','f1_lr', 'accuracy_score_lr',\n",
    "                  'cm_rfc','f1_rfc','accuracy_score_rfc'\n",
    "                 ]\n",
    "\n",
    "# data that we will use during the modelization\n",
    "statistical_and_lemma = hstack([statistical_features_matrix, data_lemma_matrix])\n",
    "lemma_1_2_3 = hstack([data_lemma_matrix, data_lemma_bigram_matrix, data_lemma_trigram_matrix])\n",
    "data_to_evaluate = [data_not_normalized_matrix,\n",
    "                    statistical_features_matrix,\n",
    "                    data_lemma_matrix,\n",
    "                    statistical_and_lemma,\n",
    "                    data_lemma_bigram_matrix,\n",
    "                    data_lemma_trigram_matrix,\n",
    "                    lemma_1_2_3\n",
    "                   ]\n",
    "name_data_to_evaluate = ['data_not_normalized_matrix',\n",
    "                         'statistical_features_matrix',\n",
    "                         'data_lemma_matrix',\n",
    "                         'statistical_and_lemma',\n",
    "                         'data_lemma_bigram_matrix',\n",
    "                         'data_lemma_trigram_matrix',\n",
    "                         'lemma_1_2_3'\n",
    "                   ]"
   ]
  },
  {
   "cell_type": "code",
   "execution_count": 264,
   "metadata": {
    "ExecuteTime": {
     "end_time": "2019-06-23T16:51:09.249709Z",
     "start_time": "2019-06-23T16:51:09.245175Z"
    },
    "scrolled": true
   },
   "outputs": [
    {
     "data": {
      "text/plain": [
       "'# Creation of the dataframe for the results\\nresults = pd.DataFrame(columns=columns_results)\\n# We modelize\\nfor i, data_to_use in enumerate(data_to_evaluate):\\n    fct_modelization(name_data_to_evaluate[i],data_to_use, targets,results)'"
      ]
     },
     "execution_count": 264,
     "metadata": {},
     "output_type": "execute_result"
    }
   ],
   "source": [
    "# Creation of the dataframe for the results\n",
    "results = pd.DataFrame(columns=columns_results)\n",
    "# We modelize\n",
    "for i, data_to_use in enumerate(data_to_evaluate):\n",
    "    fct_modelization(name_data_to_evaluate[i],data_to_use, targets,results)"
   ]
  },
  {
   "cell_type": "code",
   "execution_count": 265,
   "metadata": {
    "ExecuteTime": {
     "end_time": "2019-06-23T16:51:09.254918Z",
     "start_time": "2019-06-23T16:51:09.251629Z"
    }
   },
   "outputs": [],
   "source": [
    "#results"
   ]
  },
  {
   "cell_type": "markdown",
   "metadata": {
    "ExecuteTime": {
     "end_time": "2019-04-23T11:30:25.129091Z",
     "start_time": "2019-04-23T11:30:25.122096Z"
    }
   },
   "source": [
    "### F1-Score"
   ]
  },
  {
   "cell_type": "markdown",
   "metadata": {},
   "source": [
    "Confusion matrix:  (Real, Prediction)   \n",
    "    True Negatives (0,0)    False Positives (0,1)  \n",
    "    False Negatives (1,0)    True Positives (1,1)\n",
    "\n"
   ]
  },
  {
   "cell_type": "markdown",
   "metadata": {},
   "source": [
    "F1 score:   \n",
    "How many selected items are relevant ? precision = TP / (TP + FP)  \n",
    "How many relevant items are selected ? recall = TP / (TP + FN)  \n",
    "F1 = 2 * (precision * recall) / (precision + recall)"
   ]
  },
  {
   "cell_type": "code",
   "execution_count": 266,
   "metadata": {
    "ExecuteTime": {
     "end_time": "2019-06-23T16:51:09.265738Z",
     "start_time": "2019-06-23T16:51:09.257215Z"
    }
   },
   "outputs": [
    {
     "data": {
      "text/plain": [
       "True"
      ]
     },
     "execution_count": 266,
     "metadata": {},
     "output_type": "execute_result"
    }
   ],
   "source": [
    "precision = results.iloc[0,1][1,1]/(results.iloc[0,1][1,1] + results.iloc[0,1][0,1])\n",
    "recall = results.iloc[0,1][1,1]/(results.iloc[0,1][1,1] + results.iloc[0,1][1,0])\n",
    "results.iloc[0,2] == 2*(precision*recall)/(precision + recall)"
   ]
  },
  {
   "cell_type": "code",
   "execution_count": 267,
   "metadata": {
    "ExecuteTime": {
     "end_time": "2019-06-23T16:51:09.272312Z",
     "start_time": "2019-06-23T16:51:09.267904Z"
    }
   },
   "outputs": [
    {
     "data": {
      "text/plain": [
       "'David Hand and others criticize the widespread use of the F-score since it gives equal importance to precision and recall. In practice, different types of mis-classifications incur different costs. In other words, the relative importance of precision and recall is an aspect of the problem.[7] '"
      ]
     },
     "execution_count": 267,
     "metadata": {},
     "output_type": "execute_result"
    }
   ],
   "source": [
    "\"David Hand and others criticize the widespread use of the F-score since it gives equal importance to precision and recall. In practice, different types of mis-classifications incur different costs. In other words, the relative importance of precision and recall is an aspect of the problem.[7] \""
   ]
  },
  {
   "cell_type": "markdown",
   "metadata": {
    "ExecuteTime": {
     "end_time": "2019-06-16T15:31:10.851894Z",
     "start_time": "2019-06-16T15:31:10.836237Z"
    }
   },
   "source": [
    "# Neural Network and words embeddings"
   ]
  },
  {
   "cell_type": "markdown",
   "metadata": {},
   "source": [
    "## Preparation data"
   ]
  },
  {
   "cell_type": "code",
   "execution_count": 268,
   "metadata": {
    "ExecuteTime": {
     "end_time": "2019-06-23T16:51:09.279325Z",
     "start_time": "2019-06-23T16:51:09.274732Z"
    }
   },
   "outputs": [
    {
     "name": "stdout",
     "output_type": "stream",
     "text": [
      "We have 39076 words in our dataset.\n"
     ]
    }
   ],
   "source": [
    "print(\"We have {} words in our dataset.\".format(length_set_lemma_words))"
   ]
  },
  {
   "cell_type": "code",
   "execution_count": 269,
   "metadata": {
    "ExecuteTime": {
     "end_time": "2019-06-23T16:51:09.300327Z",
     "start_time": "2019-06-23T16:51:09.281446Z"
    }
   },
   "outputs": [
    {
     "data": {
      "text/html": [
       "<div>\n",
       "<style>\n",
       "    .dataframe thead tr:only-child th {\n",
       "        text-align: right;\n",
       "    }\n",
       "\n",
       "    .dataframe thead th {\n",
       "        text-align: left;\n",
       "    }\n",
       "\n",
       "    .dataframe tbody tr th {\n",
       "        vertical-align: top;\n",
       "    }\n",
       "</style>\n",
       "<table border=\"1\" class=\"dataframe\">\n",
       "  <thead>\n",
       "    <tr style=\"text-align: right;\">\n",
       "      <th></th>\n",
       "      <th>question_text</th>\n",
       "    </tr>\n",
       "  </thead>\n",
       "  <tbody>\n",
       "    <tr>\n",
       "      <th>0</th>\n",
       "      <td>become bodybuilder india</td>\n",
       "    </tr>\n",
       "    <tr>\n",
       "      <th>1</th>\n",
       "      <td>one need plan preparation gate</td>\n",
       "    </tr>\n",
       "    <tr>\n",
       "      <th>2</th>\n",
       "      <td>govern authority dmv regulation law state legislature</td>\n",
       "    </tr>\n",
       "    <tr>\n",
       "      <th>3</th>\n",
       "      <td>im look phosphorylated protein western blot probe total ...</td>\n",
       "    </tr>\n",
       "    <tr>\n",
       "      <th>4</th>\n",
       "      <td>tube call lead diesel filter injection pump</td>\n",
       "    </tr>\n",
       "  </tbody>\n",
       "</table>\n",
       "</div>"
      ],
      "text/plain": [
       "                                                 question_text\n",
       "0                                     become bodybuilder india\n",
       "1                               one need plan preparation gate\n",
       "2        govern authority dmv regulation law state legislature\n",
       "3  im look phosphorylated protein western blot probe total ...\n",
       "4                  tube call lead diesel filter injection pump"
      ]
     },
     "execution_count": 269,
     "metadata": {},
     "output_type": "execute_result"
    }
   ],
   "source": [
    "#create new df from our standardized list\n",
    "data_df = pd.DataFrame({\"question_text\":data_lemma_string})\n",
    "data_df.head()"
   ]
  },
  {
   "cell_type": "code",
   "execution_count": 270,
   "metadata": {
    "ExecuteTime": {
     "end_time": "2019-06-23T16:51:09.307144Z",
     "start_time": "2019-06-23T16:51:09.302544Z"
    },
    "collapsed": true
   },
   "outputs": [],
   "source": [
    "# The maximum number of words to be used\n",
    "max_nb_words = length_set_lemma_words\n",
    "# Max number of words in each question\n",
    "max_sequence_length = 50\n",
    "# This is fixed.\n",
    "embedding_dimension = 100"
   ]
  },
  {
   "cell_type": "code",
   "execution_count": 271,
   "metadata": {
    "ExecuteTime": {
     "end_time": "2019-06-23T16:51:11.615474Z",
     "start_time": "2019-06-23T16:51:09.309579Z"
    }
   },
   "outputs": [
    {
     "name": "stdout",
     "output_type": "stream",
     "text": [
      "Found 39076 unique tokens.\n"
     ]
    }
   ],
   "source": [
    "my_tokenizer = Tokenizer(num_words=max_nb_words)\n",
    "# num_words: the maximum number of words to keep, based on word frequencynum_words: the maximum number of words to keep, based on word frequency. Only the most common num_words-1 words will be kept.\n",
    "my_tokenizer.fit_on_texts(data_df[\"question_text\"].values)\n",
    "unique_tokens = my_tokenizer.word_index\n",
    "print('Found %s unique tokens.' % len(unique_tokens))"
   ]
  },
  {
   "cell_type": "code",
   "execution_count": 272,
   "metadata": {
    "ExecuteTime": {
     "end_time": "2019-06-23T16:51:14.222766Z",
     "start_time": "2019-06-23T16:51:11.617589Z"
    }
   },
   "outputs": [
    {
     "name": "stdout",
     "output_type": "stream",
     "text": [
      "Shape of data : (100000, 50)\n"
     ]
    }
   ],
   "source": [
    "X = my_tokenizer.texts_to_sequences(data_df[\"question_text\"].values)\n",
    "X = pad_sequences(X, maxlen=max_sequence_length)\n",
    "print('Shape of data :', X.shape)"
   ]
  },
  {
   "cell_type": "code",
   "execution_count": 273,
   "metadata": {
    "ExecuteTime": {
     "end_time": "2019-06-23T16:51:14.229673Z",
     "start_time": "2019-06-23T16:51:14.224631Z"
    }
   },
   "outputs": [
    {
     "data": {
      "text/plain": [
       "array([[   0,    0,    0,    0,    0,    0,    0,    0,    0,    0,    0,\n",
       "           0,    0,    0,    0,    0,    0,    0,    0,    0,    0,    0,\n",
       "           0,    0,    0,    0,    0,    0,    0,    0,    0,    0,    0,\n",
       "           0,    0,    0,    0,    0,    0,    0,    0,    0,    0,    0,\n",
       "           0,    0,    0,   31, 8717,    5]], dtype=int32)"
      ]
     },
     "execution_count": 273,
     "metadata": {},
     "output_type": "execute_result"
    }
   ],
   "source": [
    "X[:1]"
   ]
  },
  {
   "cell_type": "code",
   "execution_count": 274,
   "metadata": {
    "ExecuteTime": {
     "end_time": "2019-06-23T16:51:14.281653Z",
     "start_time": "2019-06-23T16:51:14.231622Z"
    }
   },
   "outputs": [
    {
     "name": "stderr",
     "output_type": "stream",
     "text": [
      "/home/theosimier/anaconda3/lib/python3.5/site-packages/numpy/matrixlib/defmatrix.py:71: PendingDeprecationWarning: the matrix subclass is not the recommended way to represent matrices or deal with linear algebra (see https://docs.scipy.org/doc/numpy/user/numpy-for-matlab-users.html). Please adjust your code to use regular ndarray.\n",
      "  return matrix(data, dtype=dtype, copy=False)\n"
     ]
    }
   ],
   "source": [
    "input_data = np.concatenate((X, statistical_features_matrix.todense()), axis=1)\n",
    "del X"
   ]
  },
  {
   "cell_type": "code",
   "execution_count": 275,
   "metadata": {
    "ExecuteTime": {
     "end_time": "2019-06-23T16:51:14.297599Z",
     "start_time": "2019-06-23T16:51:14.283782Z"
    }
   },
   "outputs": [
    {
     "data": {
      "text/plain": [
       "(100000, 1)"
      ]
     },
     "execution_count": 275,
     "metadata": {},
     "output_type": "execute_result"
    }
   ],
   "source": [
    "Y = np.asarray(targets)\n",
    "Y = Y.reshape(-1,1)\n",
    "Y.shape"
   ]
  },
  {
   "cell_type": "code",
   "execution_count": 276,
   "metadata": {
    "ExecuteTime": {
     "end_time": "2019-06-23T16:51:14.361047Z",
     "start_time": "2019-06-23T16:51:14.299593Z"
    },
    "collapsed": true
   },
   "outputs": [],
   "source": [
    "input_data_train, input_data_test, Y_train, Y_test = train_test_split(input_data,Y, test_size = 0.10, random_state = 42)\n",
    "X_train = input_data_train[:,:-7]\n",
    "X_test = input_data_test[:,:-7]\n",
    "statistical_features_train = input_data_train[:,50:57]\n",
    "statistical_features_test = input_data_test[:,50:57]\n",
    "del input_data, input_data_train, input_data_test, Y"
   ]
  },
  {
   "cell_type": "markdown",
   "metadata": {
    "ExecuteTime": {
     "end_time": "2019-06-16T20:19:36.756661Z",
     "start_time": "2019-06-16T20:19:36.741043Z"
    }
   },
   "source": [
    "## Embedding with Glove"
   ]
  },
  {
   "cell_type": "markdown",
   "metadata": {
    "ExecuteTime": {
     "end_time": "2019-06-23T10:20:45.678122Z",
     "start_time": "2019-06-23T10:20:45.675169Z"
    }
   },
   "source": [
    "### Embedding"
   ]
  },
  {
   "cell_type": "code",
   "execution_count": 277,
   "metadata": {
    "ExecuteTime": {
     "end_time": "2019-06-23T16:51:28.458978Z",
     "start_time": "2019-06-23T16:51:14.363134Z"
    }
   },
   "outputs": [
    {
     "name": "stdout",
     "output_type": "stream",
     "text": [
      "Loaded 400000 word vectors.\n"
     ]
    }
   ],
   "source": [
    "# load the whole embedding into memory\n",
    "embeddings_index = dict()\n",
    "f = open('glove.6B.100d.txt',encoding=\"utf8\")\n",
    "for line in f:\n",
    "    values = line.split()\n",
    "    word = values[0]  # The word\n",
    "    coefs = np.asarray(values[1:], dtype='float32')  # The vector representation in 100 dimensions of the word\n",
    "    embeddings_index[word] = coefs  # We save the vector\n",
    "f.close()\n",
    "print('Loaded %s word vectors.' % len(embeddings_index))"
   ]
  },
  {
   "cell_type": "code",
   "execution_count": 278,
   "metadata": {
    "ExecuteTime": {
     "end_time": "2019-06-23T16:51:28.583043Z",
     "start_time": "2019-06-23T16:51:28.461107Z"
    }
   },
   "outputs": [
    {
     "name": "stdout",
     "output_type": "stream",
     "text": [
      "Finish!\n"
     ]
    }
   ],
   "source": [
    "# create a weight matrix for words in training docs\n",
    "vocab_size = len(unique_tokens)+1 # Size of our vocabulary\n",
    "del unique_tokens\n",
    "glove_embedding_matrix = np.zeros((vocab_size, 100))  # Creation of a embedding matrix  with 50 zeros.\n",
    "for word, i in my_tokenizer.word_index.items():\n",
    "    embedding_vector = embeddings_index.get(word)\n",
    "    # If the embedding exists for the word of our vocab, we save the vector in the embedding matrix.\n",
    "    if embedding_vector is not None:\n",
    "        glove_embedding_matrix[i] = embedding_vector\n",
    "print(\"Finish!\")"
   ]
  },
  {
   "cell_type": "markdown",
   "metadata": {},
   "source": [
    "### Structure of the Neural Network"
   ]
  },
  {
   "cell_type": "code",
   "execution_count": 279,
   "metadata": {
    "ExecuteTime": {
     "end_time": "2019-06-23T16:51:30.934076Z",
     "start_time": "2019-06-23T16:51:28.585086Z"
    }
   },
   "outputs": [],
   "source": [
    "# Input\n",
    "main_input = Input(shape=(50,),dtype='int32', name='main_input')\n",
    "# Embedding\n",
    "glove_embedding = Embedding(vocab_size, 100, weights=[glove_embedding_matrix], input_length=X_train.shape[1], trainable=False)\n",
    "embedded_sequences = glove_embedding(main_input)\n",
    "# Other Layer\n",
    "x = SpatialDropout1D(0.2)(embedded_sequences) # It drops entire 1D feature maps instead of individual elements\n",
    "x = Bidirectional(LSTM(200))(x)\n",
    "# Statistical Features\n",
    "statistical_features = Input(shape=(7,), name='statistical_features')\n",
    "x2 = Dense(64, activation='relu')(statistical_features)\n",
    "\n",
    "x = concatenate([x, x2])\n",
    "x = Dropout(0.4)(x)\n",
    "x = Dense(64, activation='relu')(x)\n",
    "# Prediction\n",
    "preds = Dense(1, activation='sigmoid')(x)\n",
    "# model\n",
    "model_1 = Model([main_input,statistical_features], preds)\n",
    "model_1.compile(loss='binary_crossentropy', optimizer='adam', metrics=['accuracy'])"
   ]
  },
  {
   "cell_type": "markdown",
   "metadata": {},
   "source": [
    "### Training"
   ]
  },
  {
   "cell_type": "code",
   "execution_count": 280,
   "metadata": {
    "ExecuteTime": {
     "end_time": "2019-06-23T16:51:30.944223Z",
     "start_time": "2019-06-23T16:51:30.936208Z"
    }
   },
   "outputs": [
    {
     "name": "stdout",
     "output_type": "stream",
     "text": [
      "__________________________________________________________________________________________________\n",
      "Layer (type)                    Output Shape         Param #     Connected to                     \n",
      "==================================================================================================\n",
      "main_input (InputLayer)         (None, 50)           0                                            \n",
      "__________________________________________________________________________________________________\n",
      "embedding_2 (Embedding)         (None, 50, 100)      3907700     main_input[0][0]                 \n",
      "__________________________________________________________________________________________________\n",
      "spatial_dropout1d_2 (SpatialDro (None, 50, 100)      0           embedding_2[0][0]                \n",
      "__________________________________________________________________________________________________\n",
      "statistical_features (InputLaye (None, 7)            0                                            \n",
      "__________________________________________________________________________________________________\n",
      "bidirectional_2 (Bidirectional) (None, 400)          481600      spatial_dropout1d_2[0][0]        \n",
      "__________________________________________________________________________________________________\n",
      "dense_4 (Dense)                 (None, 64)           512         statistical_features[0][0]       \n",
      "__________________________________________________________________________________________________\n",
      "concatenate_2 (Concatenate)     (None, 464)          0           bidirectional_2[0][0]            \n",
      "                                                                 dense_4[0][0]                    \n",
      "__________________________________________________________________________________________________\n",
      "dropout_2 (Dropout)             (None, 464)          0           concatenate_2[0][0]              \n",
      "__________________________________________________________________________________________________\n",
      "dense_5 (Dense)                 (None, 64)           29760       dropout_2[0][0]                  \n",
      "__________________________________________________________________________________________________\n",
      "dense_6 (Dense)                 (None, 1)            65          dense_5[0][0]                    \n",
      "==================================================================================================\n",
      "Total params: 4,419,637\n",
      "Trainable params: 511,937\n",
      "Non-trainable params: 3,907,700\n",
      "__________________________________________________________________________________________________\n",
      "None\n"
     ]
    }
   ],
   "source": [
    "print(model_1.summary())"
   ]
  },
  {
   "cell_type": "code",
   "execution_count": 281,
   "metadata": {
    "ExecuteTime": {
     "end_time": "2019-06-23T17:19:28.002972Z",
     "start_time": "2019-06-23T16:51:30.946174Z"
    }
   },
   "outputs": [
    {
     "name": "stdout",
     "output_type": "stream",
     "text": [
      "Train on 72000 samples, validate on 18000 samples\n",
      "Epoch 1/10\n",
      "72000/72000 [==============================] - 160s 2ms/step - loss: 0.3940 - acc: 0.8281 - val_loss: 0.3579 - val_acc: 0.8512\n",
      "Epoch 2/10\n",
      "72000/72000 [==============================] - 178s 2ms/step - loss: 0.3430 - acc: 0.8567 - val_loss: 0.3228 - val_acc: 0.8666\n",
      "Epoch 3/10\n",
      "72000/72000 [==============================] - 180s 3ms/step - loss: 0.3215 - acc: 0.8666 - val_loss: 0.3148 - val_acc: 0.8712\n",
      "Epoch 4/10\n",
      "72000/72000 [==============================] - 183s 3ms/step - loss: 0.3058 - acc: 0.8749 - val_loss: 0.3082 - val_acc: 0.8757\n",
      "Epoch 5/10\n",
      "72000/72000 [==============================] - 156s 2ms/step - loss: 0.2929 - acc: 0.8812 - val_loss: 0.3029 - val_acc: 0.8788\n",
      "Epoch 6/10\n",
      "72000/72000 [==============================] - 183s 3ms/step - loss: 0.2817 - acc: 0.8864 - val_loss: 0.3177 - val_acc: 0.8728\n",
      "Epoch 7/10\n",
      "72000/72000 [==============================] - 184s 3ms/step - loss: 0.2688 - acc: 0.8917 - val_loss: 0.3065 - val_acc: 0.8783\n",
      "Epoch 8/10\n",
      "72000/72000 [==============================] - 162s 2ms/step - loss: 0.2581 - acc: 0.8960 - val_loss: 0.3054 - val_acc: 0.8766\n",
      "Epoch 9/10\n",
      "72000/72000 [==============================] - 146s 2ms/step - loss: 0.2562 - acc: 0.8984 - val_loss: 0.3070 - val_acc: 0.8769\n",
      "Epoch 10/10\n",
      "72000/72000 [==============================] - 143s 2ms/step - loss: 0.2386 - acc: 0.9041 - val_loss: 0.3103 - val_acc: 0.8774\n"
     ]
    }
   ],
   "source": [
    "# Callback\n",
    "nb_epoch_before_stop = 5\n",
    "min_delta=0.0001\n",
    "c = [EarlyStopping(monitor='val_loss', patience=nb_epoch_before_stop, min_delta=min_delta)] # Callback: We stop after 5 epochs\n",
    "# Training\n",
    "history = model_1.fit([X_train,statistical_features_train], Y_train, validation_split = 0.2,callbacks=c, epochs=10)"
   ]
  },
  {
   "cell_type": "markdown",
   "metadata": {},
   "source": [
    "### Results"
   ]
  },
  {
   "cell_type": "code",
   "execution_count": 282,
   "metadata": {
    "ExecuteTime": {
     "end_time": "2019-06-23T17:19:28.267382Z",
     "start_time": "2019-06-23T17:19:28.011795Z"
    }
   },
   "outputs": [
    {
     "name": "stderr",
     "output_type": "stream",
     "text": [
      "/home/theosimier/anaconda3/lib/python3.5/site-packages/matplotlib/font_manager.py:1297: UserWarning: findfont: Font family ['sans-serif'] not found. Falling back to DejaVu Sans\n",
      "  (prop.get_family(), self.defaultFamily[fontext]))\n"
     ]
    },
    {
     "data": {
      "image/png": "[encoded data removed]",
      "text/plain": [
       "<matplotlib.figure.Figure at 0x7f1b0547a5c0>"
      ]
     },
     "metadata": {},
     "output_type": "display_data"
    }
   ],
   "source": [
    "plt.title('Loss')\n",
    "plt.plot(history.history['loss'], label='train')\n",
    "plt.plot(history.history['val_loss'], label='test')\n",
    "plt.legend()\n",
    "plt.show();"
   ]
  },
  {
   "cell_type": "code",
   "execution_count": 283,
   "metadata": {
    "ExecuteTime": {
     "end_time": "2019-06-23T17:19:28.519933Z",
     "start_time": "2019-06-23T17:19:28.268920Z"
    },
    "scrolled": true
   },
   "outputs": [
    {
     "name": "stderr",
     "output_type": "stream",
     "text": [
      "/home/theosimier/anaconda3/lib/python3.5/site-packages/matplotlib/font_manager.py:1297: UserWarning: findfont: Font family ['sans-serif'] not found. Falling back to DejaVu Sans\n",
      "  (prop.get_family(), self.defaultFamily[fontext]))\n"
     ]
    },
    {
     "data": {
      "image/png": "[encoded data removed]",
      "text/plain": [
       "<matplotlib.figure.Figure at 0x7f1b08111278>"
      ]
     },
     "metadata": {},
     "output_type": "display_data"
    }
   ],
   "source": [
    "plt.title('Accuracy')\n",
    "plt.plot(history.history['acc'], label='train')\n",
    "plt.plot(history.history['val_acc'], label='test')\n",
    "plt.legend()\n",
    "plt.show();"
   ]
  },
  {
   "cell_type": "code",
   "execution_count": null,
   "metadata": {
    "ExecuteTime": {
     "start_time": "2019-06-23T17:33:34.633Z"
    }
   },
   "outputs": [
    {
     "data": {
      "text/plain": [
       "array([[4290,  786],\n",
       "       [ 433, 4491]])"
      ]
     },
     "execution_count": 290,
     "metadata": {},
     "output_type": "execute_result"
    }
   ],
   "source": [
    "test_probabilities = model_1.predict([X_test,statistical_features_test])\n",
    "test_labels = (test_probabilities > 0.5).astype(np.int)\n",
    "confusion_matrix(Y_test, test_labels)"
   ]
  },
  {
   "cell_type": "markdown",
   "metadata": {
    "ExecuteTime": {
     "end_time": "2019-06-16T20:33:35.057752Z",
     "start_time": "2019-06-16T20:28:36.832Z"
    }
   },
   "source": [
    "# Appendix"
   ]
  },
  {
   "cell_type": "markdown",
   "metadata": {},
   "source": [
    "## GridSearch"
   ]
  },
  {
   "cell_type": "code",
   "execution_count": null,
   "metadata": {
    "ExecuteTime": {
     "end_time": "2019-06-23T11:15:54.677860Z",
     "start_time": "2019-06-23T11:15:31.945Z"
    },
    "collapsed": true
   },
   "outputs": [],
   "source": [
    "# Hyperparameters\n",
    "## Stables\n",
    "epochs = 14\n",
    "## To tune\n",
    "grid_search_parameters = {'batch_size':[60, 100]}"
   ]
  },
  {
   "cell_type": "code",
   "execution_count": null,
   "metadata": {
    "ExecuteTime": {
     "end_time": "2019-06-23T11:15:54.678780Z",
     "start_time": "2019-06-23T11:15:31.958Z"
    },
    "collapsed": true
   },
   "outputs": [],
   "source": [
    "def get_model_2():\n",
    "    # Input\n",
    "    main_input = Input(shape=(50,),dtype='int32', name='main_input')\n",
    "    # Embedding\n",
    "    glove_embedding = Embedding(vocab_size, 100, weights=[glove_embedding_matrix], input_length=X.shape[1], trainable=False)\n",
    "    embedded_sequences = glove_embedding(main_input)\n",
    "    # Other Layer\n",
    "    x = SpatialDropout1D(0.2)(embedded_sequences) # It drops entire 1D feature maps instead of individual elements\n",
    "    x = Bidirectional(LSTM(200))(x)\n",
    "    # Statistical Features\n",
    "    statistical_features = Input(shape=(7,), name='statistical_features')\n",
    "    x2 = Dense(128, activation='relu')(statistical_features)\n",
    "\n",
    "    x = concatenate([x, x2])\n",
    "    x = Dense(64, activation='relu')(x)\n",
    "    # Prediction\n",
    "    preds = Dense(1, activation='sigmoid')(x)\n",
    "    # model\n",
    "    model_2 = Model([main_input,statistical_features], preds)\n",
    "    model_2.compile(loss='binary_crossentropy', optimizer='adam', metrics=['accuracy'])\n",
    "    return model_2"
   ]
  },
  {
   "cell_type": "code",
   "execution_count": null,
   "metadata": {
    "ExecuteTime": {
     "end_time": "2019-06-23T11:15:54.679643Z",
     "start_time": "2019-06-23T11:15:31.970Z"
    },
    "collapsed": true
   },
   "outputs": [],
   "source": [
    "keras_model = KerasClassifier(build_fn=get_model, epochs=epochs)\n",
    "\n",
    "# Callback\n",
    "nb_epoch_before_stop = 3\n",
    "min_delta=0.0001\n",
    "c = [EarlyStopping(monitor='val_loss', patience=nb_epoch_before_stop, min_delta=min_delta)] # Callback: We stop after 5 epochs\n",
    "# GridSearchCV\n",
    "clf = GridSearchCV(keras_model, grid_search_parameters, cv=5)\n",
    "# Fitting\n",
    "validation_split = 0.2\n",
    "clf.fit([X,statistical_features_matrix.todense()],Y, validation_split = 0.2,callbacks=c) # validation_split = validation_split, "
   ]
  },
  {
   "cell_type": "markdown",
   "metadata": {},
   "source": [
    "## Embedding without Glove"
   ]
  },
  {
   "cell_type": "markdown",
   "metadata": {},
   "source": [
    "### Structure of the Neural Network"
   ]
  },
  {
   "cell_type": "code",
   "execution_count": null,
   "metadata": {
    "ExecuteTime": {
     "end_time": "2019-06-23T11:15:54.680565Z",
     "start_time": "2019-06-23T11:15:31.983Z"
    },
    "collapsed": true
   },
   "outputs": [],
   "source": [
    "model = Sequential()\n",
    "model.add(Embedding(max_nb_words, embedding_dimension, input_length=X.shape[1]))\n",
    "model.add(SpatialDropout1D(0.1))\n",
    "model.add(LSTM(100, dropout=0.2, recurrent_dropout=0.2))\n",
    "model.add(Dense(100, activation='relu'))\n",
    "model.add(Dense(1, activation='sigmoid'))\n",
    "model.compile(loss='binary_crossentropy', optimizer='adam', metrics=['accuracy'])\n",
    "\n",
    "epochs = 20\n",
    "batch_size = 64\n",
    "\n",
    "history = model.fit(X_train, Y_train, epochs=epochs, batch_size=batch_size,validation_split=0.2,callbacks=[EarlyStopping(monitor='val_loss', patience=4, min_delta=0.0001)])"
   ]
  },
  {
   "cell_type": "code",
   "execution_count": null,
   "metadata": {
    "ExecuteTime": {
     "end_time": "2019-06-23T11:15:54.681351Z",
     "start_time": "2019-06-23T11:15:31.995Z"
    },
    "collapsed": true
   },
   "outputs": [],
   "source": [
    "print(model.summary())"
   ]
  },
  {
   "cell_type": "markdown",
   "metadata": {},
   "source": [
    "### Results"
   ]
  },
  {
   "cell_type": "code",
   "execution_count": null,
   "metadata": {
    "ExecuteTime": {
     "end_time": "2019-06-23T11:15:54.682096Z",
     "start_time": "2019-06-23T11:15:32.007Z"
    },
    "collapsed": true
   },
   "outputs": [],
   "source": [
    "model.predict(X_test)[:5]"
   ]
  },
  {
   "cell_type": "code",
   "execution_count": null,
   "metadata": {
    "ExecuteTime": {
     "end_time": "2019-06-23T11:15:54.682807Z",
     "start_time": "2019-06-23T11:15:32.018Z"
    },
    "collapsed": true
   },
   "outputs": [],
   "source": [
    "accr = model.evaluate(X_test,Y_test)\n",
    "print('Test set\\n  Loss: {:0.3f}\\n  Accuracy: {:0.3f}'.format(accr[0],accr[1]))"
   ]
  },
  {
   "cell_type": "code",
   "execution_count": null,
   "metadata": {
    "ExecuteTime": {
     "end_time": "2019-06-23T11:15:54.683444Z",
     "start_time": "2019-06-23T11:15:32.029Z"
    },
    "collapsed": true
   },
   "outputs": [],
   "source": [
    "plt.title('Loss')\n",
    "plt.plot(history.history['loss'], label='train')\n",
    "plt.plot(history.history['val_loss'], label='test')\n",
    "plt.legend()\n",
    "plt.show();"
   ]
  },
  {
   "cell_type": "code",
   "execution_count": null,
   "metadata": {
    "ExecuteTime": {
     "end_time": "2019-06-23T11:15:54.684252Z",
     "start_time": "2019-06-23T11:15:32.040Z"
    },
    "collapsed": true,
    "scrolled": true
   },
   "outputs": [],
   "source": [
    "plt.title('Accuracy')\n",
    "plt.plot(history.history['acc'], label='train')\n",
    "plt.plot(history.history['val_acc'], label='test')\n",
    "plt.legend()\n",
    "plt.show();"
   ]
  },
  {
   "cell_type": "markdown",
   "metadata": {
    "ExecuteTime": {
     "end_time": "2019-06-16T20:33:35.095506Z",
     "start_time": "2019-06-16T20:29:26.198Z"
    }
   },
   "source": [
    "## How to train our own embedding ?"
   ]
  },
  {
   "cell_type": "markdown",
   "metadata": {
    "ExecuteTime": {
     "end_time": "2019-04-19T10:00:04.290268Z",
     "start_time": "2019-04-19T10:00:04.286310Z"
    }
   },
   "source": [
    "##### Training own model demo"
   ]
  },
  {
   "cell_type": "code",
   "execution_count": null,
   "metadata": {
    "ExecuteTime": {
     "end_time": "2019-06-16T17:10:19.940876Z",
     "start_time": "2019-06-16T17:10:19.909675Z"
    },
    "collapsed": true
   },
   "outputs": [],
   "source": [
    "sentences = data_lemma_list[:20]  # The data used to train a Word2Vec model has to be tokenize sentences.\n",
    "model = Word2Vec(sentences, size=100, window=5, min_count=1, workers=2) # We train the model."
   ]
  },
  {
   "cell_type": "code",
   "execution_count": null,
   "metadata": {
    "ExecuteTime": {
     "end_time": "2019-06-16T17:10:19.956569Z",
     "start_time": "2019-06-16T17:10:19.940876Z"
    },
    "collapsed": true
   },
   "outputs": [],
   "source": [
    "words = list(model.wv.vocab)  # Vocabulary of the model\n",
    "print(words[:10])"
   ]
  },
  {
   "cell_type": "code",
   "execution_count": null,
   "metadata": {
    "ExecuteTime": {
     "end_time": "2019-06-16T17:10:19.972192Z",
     "start_time": "2019-06-16T17:10:19.956569Z"
    },
    "collapsed": true
   },
   "outputs": [],
   "source": [
    "#model.wv['travel']  # The word business is represented by a vector of 100 dimensions. or print(model['business'])"
   ]
  },
  {
   "cell_type": "markdown",
   "metadata": {
    "ExecuteTime": {
     "end_time": "2019-04-19T09:52:25.327442Z",
     "start_time": "2019-04-19T09:52:25.323453Z"
    }
   },
   "source": [
    "##### Visualization"
   ]
  },
  {
   "cell_type": "code",
   "execution_count": null,
   "metadata": {
    "ExecuteTime": {
     "end_time": "2019-06-16T17:10:20.190816Z",
     "start_time": "2019-06-16T17:10:19.972192Z"
    },
    "collapsed": true
   },
   "outputs": [],
   "source": [
    "X = model[model.wv.vocab] # We use the matrix of vectors as data\n",
    "pca = PCA(n_components=2) # We create our PCA object\n",
    "result = pca.fit_transform(X) # We fit it\n",
    "plt.scatter(result[:, 0], result[:, 1]); # We plot it"
   ]
  },
  {
   "cell_type": "code",
   "execution_count": null,
   "metadata": {
    "ExecuteTime": {
     "end_time": "2019-06-16T20:33:35.111128Z",
     "start_time": "2019-06-16T20:30:30.122Z"
    },
    "collapsed": true
   },
   "outputs": [],
   "source": [
    "### How can we explore the vocabulary ? "
   ]
  },
  {
   "cell_type": "markdown",
   "metadata": {},
   "source": [
    "##### pretrain model glove"
   ]
  },
  {
   "cell_type": "code",
   "execution_count": null,
   "metadata": {
    "ExecuteTime": {
     "end_time": "2019-06-16T17:10:39.123895Z",
     "start_time": "2019-06-16T17:10:20.190816Z"
    },
    "collapsed": true
   },
   "outputs": [],
   "source": [
    "# load the Stanford GloVe model\n",
    "filename = 'glove.6B.50d.txt.word2vec'\n",
    "model = KeyedVectors.load_word2vec_format(filename, binary=False)\n",
    "# calculate: (king - man) + woman = ?\n",
    "result = model.most_similar(positive=['woman', 'king'], negative=['man'], topn=1)\n",
    "del model\n",
    "print(result)"
   ]
  }
 ],
 "metadata": {
  "kernelspec": {
   "display_name": "Python 3",
   "language": "python",
   "name": "python3"
  },
  "language_info": {
   "codemirror_mode": {
    "name": "ipython",
    "version": 3
   },
   "file_extension": ".py",
   "mimetype": "text/x-python",
   "name": "python",
   "nbconvert_exporter": "python",
   "pygments_lexer": "ipython3",
   "version": "3.6.8"
  },
  "toc": {
   "base_numbering": 1,
   "nav_menu": {},
   "number_sections": true,
   "sideBar": true,
   "skip_h1_title": false,
   "title_cell": "Table of Contents",
   "title_sidebar": "Contents",
   "toc_cell": false,
   "toc_position": {
    "height": "calc(100% - 180px)",
    "left": "10px",
    "top": "150px",
    "width": "364.8px"
   },
   "toc_section_display": true,
   "toc_window_display": true
  },
  "varInspector": {
   "cols": {
    "lenName": 16,
    "lenType": 16,
    "lenVar": 40
   },
   "kernels_config": {
    "python": {
     "delete_cmd_postfix": "",
     "delete_cmd_prefix": "del ",
     "library": "var_list.py",
     "varRefreshCmd": "print(var_dic_list())"
    },
    "r": {
     "delete_cmd_postfix": ") ",
     "delete_cmd_prefix": "rm(",
     "library": "var_list.r",
     "varRefreshCmd": "cat(var_dic_list()) "
    }
   },
   "oldHeight": 329.333334,
   "position": {
    "height": "40px",
    "left": "772px",
    "right": "54.2667px",
    "top": "29px",
    "width": "646px"
   },
   "types_to_exclude": [
    "module",
    "function",
    "builtin_function_or_method",
    "instance",
    "_Feature"
   ],
   "varInspector_section_display": "none",
   "window_display": true
  }
 },
 "nbformat": 4,
 "nbformat_minor": 2
}
